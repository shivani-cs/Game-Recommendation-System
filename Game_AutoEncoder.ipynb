{
 "cells": [
  {
   "cell_type": "markdown",
   "metadata": {
    "id": "WADrNjauqDYi"
   },
   "source": [
    "### **Import Libraries**"
   ]
  },
  {
   "cell_type": "code",
   "execution_count": null,
   "metadata": {
    "id": "0Fz19bjYJRaO"
   },
   "outputs": [],
   "source": [
    "import pandas as pd\n",
    "import matplotlib.pyplot as plt\n",
    "import numpy as np\n",
    "from sklearn.model_selection import train_test_split\n",
    "from tensorflow.python.keras.optimizers import Adam\n",
    "from tensorflow.python.keras.layers import Input, Dense, Dropout, Activation\n",
    "from tensorflow.python.keras.models import Model\n",
    "from tensorflow.python.keras.regularizers import l2\n",
    "from tensorflow.python.keras import backend as K\n",
    "from tensorflow.python.keras import regularizers\n",
    "from tensorflow.python.keras.layers import concatenate\n",
    "%matplotlib inline  \n",
    "import warnings\n",
    "warnings.filterwarnings('ignore')\n",
    "import tensorflow as tf\n",
    "from tensorflow.python.keras.models import model_from_json"
   ]
  },
  {
   "cell_type": "markdown",
   "metadata": {
    "id": "BpdhBsPFqYVF"
   },
   "source": [
    "### **Generate serial userID and itemID**"
   ]
  },
  {
   "cell_type": "code",
   "execution_count": null,
   "metadata": {
    "id": "2aaYlf0pJRaT"
   },
   "outputs": [],
   "source": [
    "# ratings = pd.read_csv('data/cleaned/purchase_play_rating.csv')\n",
    "# ratings.head(5)"
   ]
  },
  {
   "cell_type": "code",
   "execution_count": null,
   "metadata": {
    "id": "G2t1UGhrQf9B"
   },
   "outputs": [],
   "source": [
    "# users = ratings['user'].unique()\n",
    "# len(users)"
   ]
  },
  {
   "cell_type": "code",
   "execution_count": null,
   "metadata": {
    "id": "CDuCyyBCJRaW"
   },
   "outputs": [],
   "source": [
    "# for index, row in ratings.iterrows():\n",
    "#     for i in range(12393):\n",
    "#         if row['user'] == users[i]:\n",
    "#             ratings.loc[index, 'userID'] = i\n",
    "#             break;\n",
    "#     print(index)"
   ]
  },
  {
   "cell_type": "code",
   "execution_count": null,
   "metadata": {
    "id": "Jl0jLKGfRuI2"
   },
   "outputs": [],
   "source": [
    "# items = ratings['game'].unique()\n",
    "# len(items)"
   ]
  },
  {
   "cell_type": "code",
   "execution_count": null,
   "metadata": {
    "id": "A098jArjJRaZ"
   },
   "outputs": [],
   "source": [
    "# for index, row in ratings.iterrows():\n",
    "#     for i in range(5155):\n",
    "#         if row['game'] == items[i]:\n",
    "#             ratings.loc[index, 'itemID'] = i\n",
    "#             break;\n",
    "#     print(index)"
   ]
  },
  {
   "cell_type": "code",
   "execution_count": null,
   "metadata": {
    "id": "h7Vd8HBpWgAx"
   },
   "outputs": [],
   "source": [
    "# ratings.to_csv('data/cleaned/user_game_rating.csv', index=False)"
   ]
  },
  {
   "cell_type": "markdown",
   "metadata": {
    "id": "we--A_boqSms"
   },
   "source": [
    "### **Loading Data**"
   ]
  },
  {
   "cell_type": "code",
   "execution_count": null,
   "metadata": {
    "colab": {
     "base_uri": "https://localhost:8080/",
     "height": 202
    },
    "id": "IlcCFydsd8lD",
    "outputId": "661e675b-ed09-480b-eed8-c2dc870a997a"
   },
   "outputs": [
    {
     "data": {
      "text/html": [
       "<div>\n",
       "<style scoped>\n",
       "    .dataframe tbody tr th:only-of-type {\n",
       "        vertical-align: middle;\n",
       "    }\n",
       "\n",
       "    .dataframe tbody tr th {\n",
       "        vertical-align: top;\n",
       "    }\n",
       "\n",
       "    .dataframe thead th {\n",
       "        text-align: right;\n",
       "    }\n",
       "</style>\n",
       "<table border=\"1\" class=\"dataframe\">\n",
       "  <thead>\n",
       "    <tr style=\"text-align: right;\">\n",
       "      <th></th>\n",
       "      <th>user</th>\n",
       "      <th>game</th>\n",
       "      <th>hrs</th>\n",
       "      <th>purchase</th>\n",
       "      <th>play</th>\n",
       "      <th>rating</th>\n",
       "      <th>userID</th>\n",
       "      <th>itemID</th>\n",
       "    </tr>\n",
       "  </thead>\n",
       "  <tbody>\n",
       "    <tr>\n",
       "      <th>0</th>\n",
       "      <td>5250</td>\n",
       "      <td>Alien Swarm</td>\n",
       "      <td>294.0</td>\n",
       "      <td>1</td>\n",
       "      <td>1</td>\n",
       "      <td>4</td>\n",
       "      <td>0.0</td>\n",
       "      <td>0.0</td>\n",
       "    </tr>\n",
       "    <tr>\n",
       "      <th>1</th>\n",
       "      <td>5250</td>\n",
       "      <td>Cities Skylines</td>\n",
       "      <td>8640.0</td>\n",
       "      <td>1</td>\n",
       "      <td>1</td>\n",
       "      <td>5</td>\n",
       "      <td>0.0</td>\n",
       "      <td>1.0</td>\n",
       "    </tr>\n",
       "    <tr>\n",
       "      <th>2</th>\n",
       "      <td>5250</td>\n",
       "      <td>Counter-Strike</td>\n",
       "      <td>0.0</td>\n",
       "      <td>1</td>\n",
       "      <td>0</td>\n",
       "      <td>1</td>\n",
       "      <td>0.0</td>\n",
       "      <td>2.0</td>\n",
       "    </tr>\n",
       "    <tr>\n",
       "      <th>3</th>\n",
       "      <td>5250</td>\n",
       "      <td>Counter-Strike Source</td>\n",
       "      <td>0.0</td>\n",
       "      <td>1</td>\n",
       "      <td>0</td>\n",
       "      <td>1</td>\n",
       "      <td>0.0</td>\n",
       "      <td>3.0</td>\n",
       "    </tr>\n",
       "    <tr>\n",
       "      <th>4</th>\n",
       "      <td>5250</td>\n",
       "      <td>Day of Defeat</td>\n",
       "      <td>0.0</td>\n",
       "      <td>1</td>\n",
       "      <td>0</td>\n",
       "      <td>1</td>\n",
       "      <td>0.0</td>\n",
       "      <td>4.0</td>\n",
       "    </tr>\n",
       "  </tbody>\n",
       "</table>\n",
       "</div>"
      ],
      "text/plain": [
       "   user                   game     hrs  purchase  play  rating  userID  itemID\n",
       "0  5250            Alien Swarm   294.0         1     1       4     0.0     0.0\n",
       "1  5250        Cities Skylines  8640.0         1     1       5     0.0     1.0\n",
       "2  5250         Counter-Strike     0.0         1     0       1     0.0     2.0\n",
       "3  5250  Counter-Strike Source     0.0         1     0       1     0.0     3.0\n",
       "4  5250          Day of Defeat     0.0         1     0       1     0.0     4.0"
      ]
     },
     "execution_count": 4,
     "metadata": {
      "tags": []
     },
     "output_type": "execute_result"
    }
   ],
   "source": [
    "data = pd.read_csv('data/cleaned/user_game_rating.csv')\n",
    "data.head(5)"
   ]
  },
  {
   "cell_type": "code",
   "execution_count": null,
   "metadata": {
    "id": "NmF0hDMruVEl"
   },
   "outputs": [],
   "source": [
    "# store list of games\n",
    "items = data['game'].unique()"
   ]
  },
  {
   "cell_type": "code",
   "execution_count": null,
   "metadata": {
    "colab": {
     "base_uri": "https://localhost:8080/",
     "height": 202
    },
    "id": "VtV6Za1ueQBO",
    "outputId": "a74b2d86-8129-4be1-939e-fc7594d8e10d"
   },
   "outputs": [
    {
     "data": {
      "text/html": [
       "<div>\n",
       "<style scoped>\n",
       "    .dataframe tbody tr th:only-of-type {\n",
       "        vertical-align: middle;\n",
       "    }\n",
       "\n",
       "    .dataframe tbody tr th {\n",
       "        vertical-align: top;\n",
       "    }\n",
       "\n",
       "    .dataframe thead th {\n",
       "        text-align: right;\n",
       "    }\n",
       "</style>\n",
       "<table border=\"1\" class=\"dataframe\">\n",
       "  <thead>\n",
       "    <tr style=\"text-align: right;\">\n",
       "      <th></th>\n",
       "      <th>userID</th>\n",
       "      <th>itemID</th>\n",
       "      <th>rating</th>\n",
       "    </tr>\n",
       "  </thead>\n",
       "  <tbody>\n",
       "    <tr>\n",
       "      <th>0</th>\n",
       "      <td>0.0</td>\n",
       "      <td>0.0</td>\n",
       "      <td>4</td>\n",
       "    </tr>\n",
       "    <tr>\n",
       "      <th>1</th>\n",
       "      <td>0.0</td>\n",
       "      <td>1.0</td>\n",
       "      <td>5</td>\n",
       "    </tr>\n",
       "    <tr>\n",
       "      <th>2</th>\n",
       "      <td>0.0</td>\n",
       "      <td>2.0</td>\n",
       "      <td>1</td>\n",
       "    </tr>\n",
       "    <tr>\n",
       "      <th>3</th>\n",
       "      <td>0.0</td>\n",
       "      <td>3.0</td>\n",
       "      <td>1</td>\n",
       "    </tr>\n",
       "    <tr>\n",
       "      <th>4</th>\n",
       "      <td>0.0</td>\n",
       "      <td>4.0</td>\n",
       "      <td>1</td>\n",
       "    </tr>\n",
       "  </tbody>\n",
       "</table>\n",
       "</div>"
      ],
      "text/plain": [
       "   userID  itemID  rating\n",
       "0     0.0     0.0       4\n",
       "1     0.0     1.0       5\n",
       "2     0.0     2.0       1\n",
       "3     0.0     3.0       1\n",
       "4     0.0     4.0       1"
      ]
     },
     "execution_count": 6,
     "metadata": {
      "tags": []
     },
     "output_type": "execute_result"
    }
   ],
   "source": [
    "ratings = data.filter(['userID','itemID','rating'], axis=1)\n",
    "ratings.head(5)"
   ]
  },
  {
   "cell_type": "code",
   "execution_count": null,
   "metadata": {
    "colab": {
     "base_uri": "https://localhost:8080/"
    },
    "id": "UAl5gWO-hJm5",
    "outputId": "181d044f-4310-4797-b9f8-6f20461c6df5"
   },
   "outputs": [
    {
     "name": "stdout",
     "output_type": "stream",
     "text": [
      "<class 'pandas.core.frame.DataFrame'>\n",
      "RangeIndex: 128804 entries, 0 to 128803\n",
      "Data columns (total 3 columns):\n",
      " #   Column  Non-Null Count   Dtype\n",
      "---  ------  --------------   -----\n",
      " 0   userID  128804 non-null  int64\n",
      " 1   itemID  128804 non-null  int64\n",
      " 2   rating  128804 non-null  int64\n",
      "dtypes: int64(3)\n",
      "memory usage: 2.9 MB\n"
     ]
    }
   ],
   "source": [
    "# convert rating tye to int\n",
    "ratings['userID'] = ratings['userID'].astype(int)\n",
    "ratings['itemID'] = ratings['itemID'].astype(int)\n",
    "ratings.info()"
   ]
  },
  {
   "cell_type": "code",
   "execution_count": null,
   "metadata": {
    "id": "YlPnnltEJRam"
   },
   "outputs": [],
   "source": [
    "# calculate total number of unique users and games\n",
    "num_items = len(ratings['itemID'].unique())\n",
    "num_users = len(ratings['userID'].unique())"
   ]
  },
  {
   "cell_type": "markdown",
   "metadata": {
    "id": "d3sSpuu1q6Vy"
   },
   "source": [
    "### **Split data into train, test and validation datasets**"
   ]
  },
  {
   "cell_type": "code",
   "execution_count": null,
   "metadata": {
    "id": "m5OwQe3CJRao"
   },
   "outputs": [],
   "source": [
    "train_df, test_df = train_test_split(ratings,test_size=0.1)"
   ]
  },
  {
   "cell_type": "code",
   "execution_count": null,
   "metadata": {
    "colab": {
     "base_uri": "https://localhost:8080/",
     "height": 202
    },
    "id": "ImvG5hupJRaq",
    "outputId": "3f581fbd-d35f-4ff4-c1ae-41895c8ebdc7"
   },
   "outputs": [
    {
     "data": {
      "text/html": [
       "<div>\n",
       "<style scoped>\n",
       "    .dataframe tbody tr th:only-of-type {\n",
       "        vertical-align: middle;\n",
       "    }\n",
       "\n",
       "    .dataframe tbody tr th {\n",
       "        vertical-align: top;\n",
       "    }\n",
       "\n",
       "    .dataframe thead th {\n",
       "        text-align: right;\n",
       "    }\n",
       "</style>\n",
       "<table border=\"1\" class=\"dataframe\">\n",
       "  <thead>\n",
       "    <tr style=\"text-align: right;\">\n",
       "      <th></th>\n",
       "      <th>userID</th>\n",
       "      <th>itemID</th>\n",
       "      <th>rating</th>\n",
       "    </tr>\n",
       "  </thead>\n",
       "  <tbody>\n",
       "    <tr>\n",
       "      <th>128124</th>\n",
       "      <td>12005</td>\n",
       "      <td>878</td>\n",
       "      <td>2</td>\n",
       "    </tr>\n",
       "    <tr>\n",
       "      <th>74730</th>\n",
       "      <td>3335</td>\n",
       "      <td>76</td>\n",
       "      <td>2</td>\n",
       "    </tr>\n",
       "    <tr>\n",
       "      <th>38527</th>\n",
       "      <td>1368</td>\n",
       "      <td>48</td>\n",
       "      <td>2</td>\n",
       "    </tr>\n",
       "    <tr>\n",
       "      <th>124444</th>\n",
       "      <td>10785</td>\n",
       "      <td>19</td>\n",
       "      <td>2</td>\n",
       "    </tr>\n",
       "    <tr>\n",
       "      <th>30455</th>\n",
       "      <td>1078</td>\n",
       "      <td>1107</td>\n",
       "      <td>1</td>\n",
       "    </tr>\n",
       "  </tbody>\n",
       "</table>\n",
       "</div>"
      ],
      "text/plain": [
       "        userID  itemID  rating\n",
       "128124   12005     878       2\n",
       "74730     3335      76       2\n",
       "38527     1368      48       2\n",
       "124444   10785      19       2\n",
       "30455     1078    1107       1"
      ]
     },
     "execution_count": 10,
     "metadata": {
      "tags": []
     },
     "output_type": "execute_result"
    }
   ],
   "source": [
    "train_df.head(5)"
   ]
  },
  {
   "cell_type": "code",
   "execution_count": null,
   "metadata": {
    "id": "ghWE23JaJRat"
   },
   "outputs": [],
   "source": [
    "train_df, validate_df = train_test_split(train_df,\n",
    "                                     test_size=0.1,)"
   ]
  },
  {
   "cell_type": "markdown",
   "metadata": {
    "id": "J8WBFmzdrlhr"
   },
   "source": [
    "### **Data Pre-processing**"
   ]
  },
  {
   "cell_type": "code",
   "execution_count": null,
   "metadata": {
    "id": "OVNX9mOwJRaw"
   },
   "outputs": [],
   "source": [
    "def dataPreprocessor(rating_df, num_users, num_items, init_value=0, average=False):\n",
    "    \"\"\"\n",
    "        INPUT: \n",
    "            data: pandas DataFrame. columns=['userID', 'itemID', 'rating' ...]\n",
    "            num_row: int. number of users\n",
    "            num_col: int. number of items\n",
    "            \n",
    "        OUTPUT:\n",
    "            matrix: 2D numpy array. \n",
    "    \"\"\"\n",
    "    if average:\n",
    "      matrix = np.full((num_users, num_items), 0.0)\n",
    "      for (_, userID, itemID, rating) in rating_df.itertuples():\n",
    "        matrix[userID, itemID] = rating\n",
    "      avergae = np.true_divide(matrix.sum(1), np.maximum((matrix!=0).sum(1), 1))\n",
    "      inds = np.where(matrix == 0)\n",
    "      matrix[inds] = np.take(avergae, inds[0])\n",
    "      \n",
    "    else:\n",
    "      matrix = np.full((num_users, num_items), init_value)\n",
    "      for (_, userID, itemID, rating) in rating_df.itertuples():\n",
    "        matrix[userID, itemID] = rating\n",
    "\n",
    "    return matrix"
   ]
  },
  {
   "cell_type": "code",
   "execution_count": null,
   "metadata": {
    "id": "AVfSFsyoJRay"
   },
   "outputs": [],
   "source": [
    "# Creating a sparse pivot table with users in rows and items in columns\n",
    "users_items_matrix_train_zero = dataPreprocessor(train_df, num_users, num_items, 0)\n",
    "users_items_matrix_validate = dataPreprocessor(validate_df, num_users, num_items, 0)\n",
    "users_items_matrix_test = dataPreprocessor(test_df, num_users, num_items, 0)"
   ]
  },
  {
   "cell_type": "code",
   "execution_count": null,
   "metadata": {
    "id": "g3jRkcR4JRa1"
   },
   "outputs": [],
   "source": [
    "users_items_matrix_train_average = dataPreprocessor(train_df, num_users, num_items, average=True)"
   ]
  },
  {
   "cell_type": "markdown",
   "metadata": {
    "id": "vq90GFXBr0RY"
   },
   "source": [
    "### **Different Evaluation Metrics and Visualizations**"
   ]
  },
  {
   "cell_type": "code",
   "execution_count": null,
   "metadata": {
    "id": "ddEtMj1uJRa3"
   },
   "outputs": [],
   "source": [
    "def show_error(history, skip):\n",
    "    loss = history.history['loss']\n",
    "    val_loss = history.history['val_loss']\n",
    "    plt.plot(np.arange(skip, len(loss), 1), loss[skip:])\n",
    "    plt.plot(np.arange(skip, len(loss), 1), val_loss[skip:])\n",
    "    plt.title('model train vs validation loss')\n",
    "    plt.ylabel('loss')\n",
    "    plt.xlabel('epoch')\n",
    "    plt.legend(['train', 'validation'], loc='best')\n",
    "    plt.show()"
   ]
  },
  {
   "cell_type": "code",
   "execution_count": null,
   "metadata": {
    "id": "Ju4hnfDsJRa5"
   },
   "outputs": [],
   "source": [
    "def show_rmse(history, skip):\n",
    "    rmse = history.history['masked_rmse_clip']\n",
    "    val_rmse = history.history['val_masked_rmse_clip']\n",
    "    plt.plot(np.arange(skip, len(rmse), 1), rmse[skip:])\n",
    "    plt.plot(np.arange(skip, len(val_rmse), 1), val_rmse[skip:])\n",
    "    plt.title('model train vs validation masked_rmse')\n",
    "    plt.ylabel('rmse')\n",
    "    plt.xlabel('epoch')\n",
    "    plt.legend(['train', 'validation'], loc='best')\n",
    "    plt.show()"
   ]
  },
  {
   "cell_type": "code",
   "execution_count": null,
   "metadata": {
    "id": "uHJZ7iPnJRa7"
   },
   "outputs": [],
   "source": [
    "def masked_mse(y_true, y_pred):\n",
    "        # masked function\n",
    "        mask_true = K.cast(K.not_equal(y_true, 0), K.floatx())\n",
    "        # masked squared error\n",
    "        masked_squared_error = K.square(mask_true * (y_true - y_pred))\n",
    "        masked_mse = K.sum(masked_squared_error, axis=-1) / K.maximum(K.sum(mask_true, axis=-1), 1)\n",
    "        return masked_mse"
   ]
  },
  {
   "cell_type": "code",
   "execution_count": null,
   "metadata": {
    "id": "EGpfSpt_JRa9"
   },
   "outputs": [],
   "source": [
    "def masked_rmse(y_true, y_pred):\n",
    "        # masked function\n",
    "        mask_true = K.cast(K.not_equal(y_true, 0), K.floatx())\n",
    "        # masked squared error\n",
    "        masked_squared_error = K.square(mask_true * (y_true - y_pred))\n",
    "        masked_mse = K.sqrt(K.sum(masked_squared_error, axis=-1) / K.maximum(K.sum(mask_true, axis=-1), 1))\n",
    "        return masked_mse"
   ]
  },
  {
   "cell_type": "code",
   "execution_count": null,
   "metadata": {
    "id": "kKMba1upJRbA"
   },
   "outputs": [],
   "source": [
    "def masked_rmse_clip(y_true, y_pred):\n",
    "        # masked function\n",
    "        mask_true = K.cast(K.not_equal(y_true, 0), K.floatx())\n",
    "        y_pred = K.clip(y_pred, 1, 5)\n",
    "        # masked squared error\n",
    "        masked_squared_error = K.square(mask_true * (y_true - y_pred))\n",
    "        masked_mse = K.sqrt(K.sum(masked_squared_error, axis=-1) / K.maximum(K.sum(mask_true, axis=-1), 1))\n",
    "        return masked_mse"
   ]
  },
  {
   "cell_type": "markdown",
   "metadata": {
    "id": "FGZjohtEsvHZ"
   },
   "source": [
    "### **Build a Model**"
   ]
  },
  {
   "cell_type": "code",
   "execution_count": null,
   "metadata": {
    "id": "EqnB7T9WJRbD"
   },
   "outputs": [],
   "source": [
    "def Deep_AE_model(X, layers, activation, last_activation, dropout, regularizer_encode, regularizer_decode, side_infor_size=0):\n",
    "    '''\n",
    "    Build Deep AE for CF\n",
    "        INPUT: \n",
    "            X: #_user X #_item matrix\n",
    "            layers: List, each element is the number of neuron for a layer\n",
    "            reg: L2 regularization parameter\n",
    "            activation: activation function for all dense layer except the last\n",
    "            last_activation: activation function for the last dense layer\n",
    "            dropout: dropout rate\n",
    "            regularizer_encode: regularizer for encoder\n",
    "            regularizer_decode: regularizer for decoder\n",
    "            side_infor_size: size of the one hot encoding side information\n",
    "        OUTPUT:\n",
    "            Keras model\n",
    "    '''\n",
    "\n",
    "    # Input\n",
    "    input_layer = x = Input(shape=(X.shape[1],), name='UserRating')\n",
    "    \n",
    "    # Encoder\n",
    "    k = int(len(layers)/2)\n",
    "    i = 0\n",
    "    for l in layers[:k]:\n",
    "      x = Dense(l, activation=activation,\n",
    "                      name='EncLayer{}'.format(i), kernel_regularizer=regularizers.l2(regularizer_encode))(x)\n",
    "      i = i+1\n",
    "      \n",
    "      \n",
    "    # Latent Space\n",
    "    x = Dense(layers[k], activation=activation, \n",
    "                                name='LatentSpace', kernel_regularizer=regularizers.l2(regularizer_encode))(x)\n",
    "    \n",
    "    # Dropout\n",
    "    x = Dropout(rate = dropout)(x)\n",
    "    \n",
    "    # Decoder\n",
    "    for l in layers[k+1:]:\n",
    "      i = i-1\n",
    "      x = Dense(l, activation=activation, \n",
    "                      name='DecLayer{}'.format(i), kernel_regularizer=regularizers.l2(regularizer_decode))(x)\n",
    "      \n",
    "    # Output\n",
    "    output_layer = Dense(X.shape[1]-side_infor_size, activation=last_activation, name='UserScorePred', kernel_regularizer=regularizers.l2(regularizer_decode))(x)\n",
    "\n",
    "    # this model maps an input to its reconstruction\n",
    "    model = Model(input_layer, output_layer)\n",
    "\n",
    "    return model\n"
   ]
  },
  {
   "cell_type": "code",
   "execution_count": null,
   "metadata": {
    "id": "wA0UJy0uJRbF"
   },
   "outputs": [],
   "source": [
    "# defining hyperparameters\n",
    "layers = [512, 256, 128, 256, 512]\n",
    "dropout = 0.2\n",
    "# activation = 'sigmoid'\n",
    "# last_activation = 'linear'\n",
    "activation = 'selu'\n",
    "last_activation = 'selu'\n",
    "regularizer_encode = 0.001\n",
    "regularizer_decode = 0.001"
   ]
  },
  {
   "cell_type": "code",
   "execution_count": null,
   "metadata": {
    "id": "Cap-Z5oSJRbH"
   },
   "outputs": [],
   "source": [
    "tf.compat.v1.disable_eager_execution()"
   ]
  },
  {
   "cell_type": "code",
   "execution_count": null,
   "metadata": {
    "colab": {
     "base_uri": "https://localhost:8080/"
    },
    "id": "iZy6hMDoJRbJ",
    "outputId": "3a1ff9b3-dd69-4585-d2a6-8c8df00aae9a"
   },
   "outputs": [
    {
     "name": "stdout",
     "output_type": "stream",
     "text": [
      "Model: \"functional_3\"\n",
      "_________________________________________________________________\n",
      "Layer (type)                 Output Shape              Param #   \n",
      "=================================================================\n",
      "UserRating (InputLayer)      [(None, 5155)]            0         \n",
      "_________________________________________________________________\n",
      "EncLayer0 (Dense)            (None, 512)               2639872   \n",
      "_________________________________________________________________\n",
      "EncLayer1 (Dense)            (None, 256)               131328    \n",
      "_________________________________________________________________\n",
      "LatentSpace (Dense)          (None, 128)               32896     \n",
      "_________________________________________________________________\n",
      "dropout_1 (Dropout)          (None, 128)               0         \n",
      "_________________________________________________________________\n",
      "DecLayer1 (Dense)            (None, 256)               33024     \n",
      "_________________________________________________________________\n",
      "DecLayer0 (Dense)            (None, 512)               131584    \n",
      "_________________________________________________________________\n",
      "UserScorePred (Dense)        (None, 5155)              2644515   \n",
      "=================================================================\n",
      "Total params: 5,613,219\n",
      "Trainable params: 5,613,219\n",
      "Non-trainable params: 0\n",
      "_________________________________________________________________\n"
     ]
    }
   ],
   "source": [
    "# Build model\n",
    "Deep_AE = Deep_AE_model(users_items_matrix_train_zero, layers, activation, last_activation, dropout, regularizer_encode, regularizer_decode)\n",
    "Deep_AE.compile(optimizer = Adam(lr=0.0001), loss=masked_mse, metrics=[masked_rmse, masked_rmse_clip]) \n",
    "Deep_AE.summary()"
   ]
  },
  {
   "cell_type": "code",
   "execution_count": null,
   "metadata": {
    "colab": {
     "base_uri": "https://localhost:8080/"
    },
    "id": "yhzAFL5mJRbL",
    "outputId": "8e804718-9498-4ca8-f8e9-640f31b14d18"
   },
   "outputs": [
    {
     "name": "stdout",
     "output_type": "stream",
     "text": [
      "Train on 12393 samples, validate on 12393 samples\n",
      "Epoch 1/100\n",
      "12393/12393 [==============================] - 2s 146us/sample - loss: 7.8974 - masked_rmse: 1.8761 - masked_rmse_clip: 1.4463 - val_loss: 4.1735 - val_masked_rmse: 0.6048 - val_masked_rmse_clip: 0.4775\n",
      "Epoch 2/100\n",
      "12393/12393 [==============================] - 2s 137us/sample - loss: 4.4080 - masked_rmse: 1.0956 - masked_rmse_clip: 0.9905 - val_loss: 3.1125 - val_masked_rmse: 0.4339 - val_masked_rmse_clip: 0.4021\n",
      "Epoch 3/100\n",
      "12393/12393 [==============================] - 2s 132us/sample - loss: 3.1806 - masked_rmse: 0.8172 - masked_rmse_clip: 0.7909 - val_loss: 2.7880 - val_masked_rmse: 0.3992 - val_masked_rmse_clip: 0.3768\n",
      "Epoch 4/100\n",
      "12393/12393 [==============================] - 2s 133us/sample - loss: 2.6917 - masked_rmse: 0.6993 - masked_rmse_clip: 0.6885 - val_loss: 2.6738 - val_masked_rmse: 0.3999 - val_masked_rmse_clip: 0.3693\n",
      "Epoch 5/100\n",
      "12393/12393 [==============================] - 2s 130us/sample - loss: 2.4176 - masked_rmse: 0.6303 - masked_rmse_clip: 0.6226 - val_loss: 2.6411 - val_masked_rmse: 0.4111 - val_masked_rmse_clip: 0.3691\n",
      "Epoch 6/100\n",
      "12393/12393 [==============================] - 2s 131us/sample - loss: 2.2256 - masked_rmse: 0.5813 - masked_rmse_clip: 0.5732 - val_loss: 2.6243 - val_masked_rmse: 0.4208 - val_masked_rmse_clip: 0.3696\n",
      "Epoch 7/100\n",
      "12393/12393 [==============================] - 2s 130us/sample - loss: 2.0821 - masked_rmse: 0.5442 - masked_rmse_clip: 0.5352 - val_loss: 2.6260 - val_masked_rmse: 0.4338 - val_masked_rmse_clip: 0.3730\n",
      "Epoch 8/100\n",
      "12393/12393 [==============================] - 2s 131us/sample - loss: 1.9663 - masked_rmse: 0.5113 - masked_rmse_clip: 0.5008 - val_loss: 2.6282 - val_masked_rmse: 0.4436 - val_masked_rmse_clip: 0.3751\n",
      "Epoch 9/100\n",
      "12393/12393 [==============================] - 2s 133us/sample - loss: 1.8758 - masked_rmse: 0.4870 - masked_rmse_clip: 0.4748 - val_loss: 2.6336 - val_masked_rmse: 0.4536 - val_masked_rmse_clip: 0.3757\n",
      "Epoch 10/100\n",
      "12393/12393 [==============================] - 2s 132us/sample - loss: 1.8000 - masked_rmse: 0.4624 - masked_rmse_clip: 0.4487 - val_loss: 2.6445 - val_masked_rmse: 0.4636 - val_masked_rmse_clip: 0.3773\n",
      "Epoch 11/100\n",
      "12393/12393 [==============================] - 2s 133us/sample - loss: 1.7371 - masked_rmse: 0.4451 - masked_rmse_clip: 0.4301 - val_loss: 2.6475 - val_masked_rmse: 0.4709 - val_masked_rmse_clip: 0.3786\n",
      "Epoch 12/100\n",
      "12393/12393 [==============================] - 2s 133us/sample - loss: 1.6809 - masked_rmse: 0.4266 - masked_rmse_clip: 0.4110 - val_loss: 2.6517 - val_masked_rmse: 0.4776 - val_masked_rmse_clip: 0.3799\n",
      "Epoch 13/100\n",
      "12393/12393 [==============================] - 2s 130us/sample - loss: 1.6359 - masked_rmse: 0.4142 - masked_rmse_clip: 0.3983 - val_loss: 2.6694 - val_masked_rmse: 0.4872 - val_masked_rmse_clip: 0.3819\n",
      "Epoch 14/100\n",
      "12393/12393 [==============================] - 2s 132us/sample - loss: 1.5885 - masked_rmse: 0.3988 - masked_rmse_clip: 0.3817 - val_loss: 2.6547 - val_masked_rmse: 0.4897 - val_masked_rmse_clip: 0.3821\n",
      "Epoch 15/100\n",
      "12393/12393 [==============================] - 2s 132us/sample - loss: 1.5509 - masked_rmse: 0.3893 - masked_rmse_clip: 0.3731 - val_loss: 2.6452 - val_masked_rmse: 0.4932 - val_masked_rmse_clip: 0.3828\n",
      "Epoch 16/100\n",
      "12393/12393 [==============================] - 2s 130us/sample - loss: 1.5159 - masked_rmse: 0.3824 - masked_rmse_clip: 0.3657 - val_loss: 2.6412 - val_masked_rmse: 0.4971 - val_masked_rmse_clip: 0.3838\n",
      "Epoch 17/100\n",
      "12393/12393 [==============================] - 2s 132us/sample - loss: 1.4814 - masked_rmse: 0.3741 - masked_rmse_clip: 0.3572 - val_loss: 2.6276 - val_masked_rmse: 0.4998 - val_masked_rmse_clip: 0.3849\n",
      "Epoch 18/100\n",
      "12393/12393 [==============================] - 2s 132us/sample - loss: 1.4481 - masked_rmse: 0.3654 - masked_rmse_clip: 0.3486 - val_loss: 2.5943 - val_masked_rmse: 0.4966 - val_masked_rmse_clip: 0.3832\n",
      "Epoch 19/100\n",
      "12393/12393 [==============================] - 2s 134us/sample - loss: 1.4199 - masked_rmse: 0.3606 - masked_rmse_clip: 0.3434 - val_loss: 2.5965 - val_masked_rmse: 0.5023 - val_masked_rmse_clip: 0.3858\n",
      "Epoch 20/100\n",
      "12393/12393 [==============================] - 2s 135us/sample - loss: 1.3906 - masked_rmse: 0.3543 - masked_rmse_clip: 0.3367 - val_loss: 2.5926 - val_masked_rmse: 0.5067 - val_masked_rmse_clip: 0.3865\n",
      "Epoch 21/100\n",
      "12393/12393 [==============================] - 2s 133us/sample - loss: 1.3632 - masked_rmse: 0.3482 - masked_rmse_clip: 0.3315 - val_loss: 2.5789 - val_masked_rmse: 0.5080 - val_masked_rmse_clip: 0.3868\n",
      "Epoch 22/100\n",
      "12393/12393 [==============================] - 2s 131us/sample - loss: 1.3359 - masked_rmse: 0.3437 - masked_rmse_clip: 0.3255 - val_loss: 2.5746 - val_masked_rmse: 0.5121 - val_masked_rmse_clip: 0.3893\n",
      "Epoch 23/100\n",
      "12393/12393 [==============================] - 2s 133us/sample - loss: 1.3100 - masked_rmse: 0.3398 - masked_rmse_clip: 0.3217 - val_loss: 2.5449 - val_masked_rmse: 0.5094 - val_masked_rmse_clip: 0.3867\n",
      "Epoch 24/100\n",
      "12393/12393 [==============================] - 2s 130us/sample - loss: 1.2857 - masked_rmse: 0.3355 - masked_rmse_clip: 0.3173 - val_loss: 2.5494 - val_masked_rmse: 0.5153 - val_masked_rmse_clip: 0.3899\n",
      "Epoch 25/100\n",
      "12393/12393 [==============================] - 2s 131us/sample - loss: 1.2617 - masked_rmse: 0.3303 - masked_rmse_clip: 0.3126 - val_loss: 2.5278 - val_masked_rmse: 0.5144 - val_masked_rmse_clip: 0.3885\n",
      "Epoch 26/100\n",
      "12393/12393 [==============================] - 2s 131us/sample - loss: 1.2394 - masked_rmse: 0.3287 - masked_rmse_clip: 0.3101 - val_loss: 2.5047 - val_masked_rmse: 0.5134 - val_masked_rmse_clip: 0.3896\n",
      "Epoch 27/100\n",
      "12393/12393 [==============================] - 2s 132us/sample - loss: 1.2164 - masked_rmse: 0.3246 - masked_rmse_clip: 0.3062 - val_loss: 2.4901 - val_masked_rmse: 0.5141 - val_masked_rmse_clip: 0.3892\n",
      "Epoch 28/100\n",
      "12393/12393 [==============================] - 2s 132us/sample - loss: 1.1940 - masked_rmse: 0.3209 - masked_rmse_clip: 0.3031 - val_loss: 2.4946 - val_masked_rmse: 0.5200 - val_masked_rmse_clip: 0.3920\n",
      "Epoch 29/100\n",
      "12393/12393 [==============================] - 2s 132us/sample - loss: 1.1721 - masked_rmse: 0.3166 - masked_rmse_clip: 0.2988 - val_loss: 2.4601 - val_masked_rmse: 0.5173 - val_masked_rmse_clip: 0.3902\n",
      "Epoch 30/100\n",
      "12393/12393 [==============================] - 2s 133us/sample - loss: 1.1512 - masked_rmse: 0.3145 - masked_rmse_clip: 0.2961 - val_loss: 2.4540 - val_masked_rmse: 0.5196 - val_masked_rmse_clip: 0.3913\n",
      "Epoch 31/100\n",
      "12393/12393 [==============================] - 2s 133us/sample - loss: 1.1323 - masked_rmse: 0.3144 - masked_rmse_clip: 0.2960 - val_loss: 2.4351 - val_masked_rmse: 0.5196 - val_masked_rmse_clip: 0.3919\n",
      "Epoch 32/100\n",
      "12393/12393 [==============================] - 2s 132us/sample - loss: 1.1126 - masked_rmse: 0.3097 - masked_rmse_clip: 0.2912 - val_loss: 2.4208 - val_masked_rmse: 0.5200 - val_masked_rmse_clip: 0.3931\n",
      "Epoch 33/100\n",
      "12393/12393 [==============================] - 2s 132us/sample - loss: 1.0950 - masked_rmse: 0.3107 - masked_rmse_clip: 0.2920 - val_loss: 2.3954 - val_masked_rmse: 0.5190 - val_masked_rmse_clip: 0.3933\n",
      "Epoch 34/100\n",
      "12393/12393 [==============================] - 2s 132us/sample - loss: 1.0731 - masked_rmse: 0.3055 - masked_rmse_clip: 0.2869 - val_loss: 2.3835 - val_masked_rmse: 0.5199 - val_masked_rmse_clip: 0.3926\n",
      "Epoch 35/100\n",
      "12393/12393 [==============================] - 2s 132us/sample - loss: 1.0558 - masked_rmse: 0.3041 - masked_rmse_clip: 0.2855 - val_loss: 2.3629 - val_masked_rmse: 0.5182 - val_masked_rmse_clip: 0.3932\n",
      "Epoch 36/100\n",
      "12393/12393 [==============================] - 2s 132us/sample - loss: 1.0365 - masked_rmse: 0.3016 - masked_rmse_clip: 0.2832 - val_loss: 2.3528 - val_masked_rmse: 0.5194 - val_masked_rmse_clip: 0.3927\n",
      "Epoch 37/100\n",
      "12393/12393 [==============================] - 2s 132us/sample - loss: 1.0189 - masked_rmse: 0.2998 - masked_rmse_clip: 0.2813 - val_loss: 2.3355 - val_masked_rmse: 0.5198 - val_masked_rmse_clip: 0.3930\n",
      "Epoch 38/100\n",
      "12393/12393 [==============================] - 2s 134us/sample - loss: 0.9999 - masked_rmse: 0.2967 - masked_rmse_clip: 0.2788 - val_loss: 2.3228 - val_masked_rmse: 0.5215 - val_masked_rmse_clip: 0.3937\n",
      "Epoch 39/100\n",
      "12393/12393 [==============================] - 2s 133us/sample - loss: 0.9854 - masked_rmse: 0.2972 - masked_rmse_clip: 0.2791 - val_loss: 2.3148 - val_masked_rmse: 0.5220 - val_masked_rmse_clip: 0.3938\n",
      "Epoch 40/100\n",
      "12393/12393 [==============================] - 2s 133us/sample - loss: 0.9681 - masked_rmse: 0.2948 - masked_rmse_clip: 0.2762 - val_loss: 2.2898 - val_masked_rmse: 0.5211 - val_masked_rmse_clip: 0.3947\n",
      "Epoch 41/100\n",
      "12393/12393 [==============================] - 2s 133us/sample - loss: 0.9514 - masked_rmse: 0.2924 - masked_rmse_clip: 0.2742 - val_loss: 2.2786 - val_masked_rmse: 0.5208 - val_masked_rmse_clip: 0.3946\n",
      "Epoch 42/100\n",
      "12393/12393 [==============================] - 2s 133us/sample - loss: 0.9363 - masked_rmse: 0.2922 - masked_rmse_clip: 0.2737 - val_loss: 2.2713 - val_masked_rmse: 0.5231 - val_masked_rmse_clip: 0.3960\n",
      "Epoch 43/100\n",
      "12393/12393 [==============================] - 2s 132us/sample - loss: 0.9198 - masked_rmse: 0.2902 - masked_rmse_clip: 0.2721 - val_loss: 2.2532 - val_masked_rmse: 0.5220 - val_masked_rmse_clip: 0.3957\n",
      "Epoch 44/100\n",
      "12393/12393 [==============================] - 2s 132us/sample - loss: 0.9044 - masked_rmse: 0.2881 - masked_rmse_clip: 0.2700 - val_loss: 2.2482 - val_masked_rmse: 0.5239 - val_masked_rmse_clip: 0.3946\n",
      "Epoch 45/100\n",
      "12393/12393 [==============================] - 2s 135us/sample - loss: 0.8910 - masked_rmse: 0.2898 - masked_rmse_clip: 0.2707 - val_loss: 2.2228 - val_masked_rmse: 0.5222 - val_masked_rmse_clip: 0.3950\n",
      "Epoch 46/100\n",
      "12393/12393 [==============================] - 2s 134us/sample - loss: 0.8755 - masked_rmse: 0.2867 - masked_rmse_clip: 0.2678 - val_loss: 2.2144 - val_masked_rmse: 0.5222 - val_masked_rmse_clip: 0.3950\n",
      "Epoch 47/100\n",
      "12393/12393 [==============================] - 2s 134us/sample - loss: 0.8598 - masked_rmse: 0.2845 - masked_rmse_clip: 0.2661 - val_loss: 2.1986 - val_masked_rmse: 0.5225 - val_masked_rmse_clip: 0.3959\n",
      "Epoch 48/100\n",
      "12393/12393 [==============================] - 2s 133us/sample - loss: 0.8497 - masked_rmse: 0.2869 - masked_rmse_clip: 0.2688 - val_loss: 2.1809 - val_masked_rmse: 0.5216 - val_masked_rmse_clip: 0.3945\n",
      "Epoch 49/100\n",
      "12393/12393 [==============================] - 2s 132us/sample - loss: 0.8346 - masked_rmse: 0.2854 - masked_rmse_clip: 0.2664 - val_loss: 2.1725 - val_masked_rmse: 0.5221 - val_masked_rmse_clip: 0.3952\n",
      "Epoch 50/100\n",
      "12393/12393 [==============================] - 2s 131us/sample - loss: 0.8209 - masked_rmse: 0.2829 - masked_rmse_clip: 0.2645 - val_loss: 2.1595 - val_masked_rmse: 0.5222 - val_masked_rmse_clip: 0.3958\n",
      "Epoch 51/100\n",
      "12393/12393 [==============================] - 2s 132us/sample - loss: 0.8078 - masked_rmse: 0.2825 - masked_rmse_clip: 0.2635 - val_loss: 2.1506 - val_masked_rmse: 0.5232 - val_masked_rmse_clip: 0.3968\n",
      "Epoch 52/100\n",
      "12393/12393 [==============================] - 2s 135us/sample - loss: 0.7952 - masked_rmse: 0.2822 - masked_rmse_clip: 0.2636 - val_loss: 2.1445 - val_masked_rmse: 0.5250 - val_masked_rmse_clip: 0.3959\n",
      "Epoch 53/100\n",
      "12393/12393 [==============================] - 2s 135us/sample - loss: 0.7820 - masked_rmse: 0.2804 - masked_rmse_clip: 0.2621 - val_loss: 2.1311 - val_masked_rmse: 0.5237 - val_masked_rmse_clip: 0.3967\n",
      "Epoch 54/100\n",
      "12393/12393 [==============================] - 2s 136us/sample - loss: 0.7703 - masked_rmse: 0.2800 - masked_rmse_clip: 0.2617 - val_loss: 2.1285 - val_masked_rmse: 0.5265 - val_masked_rmse_clip: 0.3972\n",
      "Epoch 55/100\n",
      "12393/12393 [==============================] - 2s 136us/sample - loss: 0.7603 - masked_rmse: 0.2804 - masked_rmse_clip: 0.2618 - val_loss: 2.1068 - val_masked_rmse: 0.5241 - val_masked_rmse_clip: 0.3971\n",
      "Epoch 56/100\n",
      "12393/12393 [==============================] - 2s 132us/sample - loss: 0.7459 - masked_rmse: 0.2773 - masked_rmse_clip: 0.2587 - val_loss: 2.0916 - val_masked_rmse: 0.5239 - val_masked_rmse_clip: 0.3971\n",
      "Epoch 57/100\n",
      "12393/12393 [==============================] - 2s 135us/sample - loss: 0.7362 - masked_rmse: 0.2779 - masked_rmse_clip: 0.2597 - val_loss: 2.0802 - val_masked_rmse: 0.5218 - val_masked_rmse_clip: 0.3951\n",
      "Epoch 58/100\n",
      "12393/12393 [==============================] - 2s 134us/sample - loss: 0.7235 - masked_rmse: 0.2764 - masked_rmse_clip: 0.2571 - val_loss: 2.0719 - val_masked_rmse: 0.5235 - val_masked_rmse_clip: 0.3966\n",
      "Epoch 59/100\n",
      "12393/12393 [==============================] - 2s 134us/sample - loss: 0.7113 - masked_rmse: 0.2742 - masked_rmse_clip: 0.2560 - val_loss: 2.0781 - val_masked_rmse: 0.5278 - val_masked_rmse_clip: 0.3983\n",
      "Epoch 60/100\n",
      "12393/12393 [==============================] - 2s 133us/sample - loss: 0.7024 - masked_rmse: 0.2748 - masked_rmse_clip: 0.2562 - val_loss: 2.0450 - val_masked_rmse: 0.5219 - val_masked_rmse_clip: 0.3962\n",
      "Epoch 61/100\n",
      "12393/12393 [==============================] - 2s 133us/sample - loss: 0.6918 - masked_rmse: 0.2739 - masked_rmse_clip: 0.2559 - val_loss: 2.0359 - val_masked_rmse: 0.5224 - val_masked_rmse_clip: 0.3958\n",
      "Epoch 62/100\n",
      "12393/12393 [==============================] - 2s 134us/sample - loss: 0.6828 - masked_rmse: 0.2744 - masked_rmse_clip: 0.2554 - val_loss: 2.0187 - val_masked_rmse: 0.5219 - val_masked_rmse_clip: 0.3982\n",
      "Epoch 63/100\n",
      "12393/12393 [==============================] - 2s 134us/sample - loss: 0.6739 - masked_rmse: 0.2741 - masked_rmse_clip: 0.2555 - val_loss: 2.0199 - val_masked_rmse: 0.5236 - val_masked_rmse_clip: 0.3960\n",
      "Epoch 64/100\n",
      "12393/12393 [==============================] - 2s 135us/sample - loss: 0.6624 - masked_rmse: 0.2718 - masked_rmse_clip: 0.2536 - val_loss: 2.0158 - val_masked_rmse: 0.5235 - val_masked_rmse_clip: 0.3951\n",
      "Epoch 65/100\n",
      "12393/12393 [==============================] - 2s 136us/sample - loss: 0.6529 - masked_rmse: 0.2717 - masked_rmse_clip: 0.2529 - val_loss: 2.0023 - val_masked_rmse: 0.5229 - val_masked_rmse_clip: 0.3963\n",
      "Epoch 66/100\n",
      "12393/12393 [==============================] - 2s 134us/sample - loss: 0.6448 - masked_rmse: 0.2726 - masked_rmse_clip: 0.2539 - val_loss: 2.0051 - val_masked_rmse: 0.5252 - val_masked_rmse_clip: 0.3978\n",
      "Epoch 67/100\n",
      "12393/12393 [==============================] - 2s 132us/sample - loss: 0.6359 - masked_rmse: 0.2719 - masked_rmse_clip: 0.2527 - val_loss: 1.9708 - val_masked_rmse: 0.5198 - val_masked_rmse_clip: 0.3967\n",
      "Epoch 68/100\n",
      "12393/12393 [==============================] - 2s 134us/sample - loss: 0.6266 - masked_rmse: 0.2702 - masked_rmse_clip: 0.2520 - val_loss: 1.9757 - val_masked_rmse: 0.5229 - val_masked_rmse_clip: 0.3977\n",
      "Epoch 69/100\n",
      "12393/12393 [==============================] - 2s 133us/sample - loss: 0.6190 - masked_rmse: 0.2717 - masked_rmse_clip: 0.2526 - val_loss: 1.9427 - val_masked_rmse: 0.5173 - val_masked_rmse_clip: 0.3962\n",
      "Epoch 70/100\n",
      "12393/12393 [==============================] - 2s 133us/sample - loss: 0.6103 - masked_rmse: 0.2690 - masked_rmse_clip: 0.2509 - val_loss: 1.9582 - val_masked_rmse: 0.5228 - val_masked_rmse_clip: 0.3971\n",
      "Epoch 71/100\n",
      "12393/12393 [==============================] - 2s 135us/sample - loss: 0.6025 - masked_rmse: 0.2696 - masked_rmse_clip: 0.2505 - val_loss: 1.9541 - val_masked_rmse: 0.5229 - val_masked_rmse_clip: 0.3969\n",
      "Epoch 72/100\n",
      "12393/12393 [==============================] - 2s 133us/sample - loss: 0.5958 - masked_rmse: 0.2686 - masked_rmse_clip: 0.2506 - val_loss: 1.9523 - val_masked_rmse: 0.5251 - val_masked_rmse_clip: 0.3983\n",
      "Epoch 73/100\n",
      "12393/12393 [==============================] - 2s 134us/sample - loss: 0.5875 - masked_rmse: 0.2675 - masked_rmse_clip: 0.2489 - val_loss: 1.9354 - val_masked_rmse: 0.5231 - val_masked_rmse_clip: 0.3983\n",
      "Epoch 74/100\n",
      "12393/12393 [==============================] - 2s 135us/sample - loss: 0.5796 - masked_rmse: 0.2674 - masked_rmse_clip: 0.2486 - val_loss: 1.9305 - val_masked_rmse: 0.5225 - val_masked_rmse_clip: 0.3978\n",
      "Epoch 75/100\n",
      "12393/12393 [==============================] - 2s 138us/sample - loss: 0.5722 - masked_rmse: 0.2670 - masked_rmse_clip: 0.2486 - val_loss: 1.8971 - val_masked_rmse: 0.5179 - val_masked_rmse_clip: 0.3961\n",
      "Epoch 76/100\n",
      "12393/12393 [==============================] - 2s 136us/sample - loss: 0.5660 - masked_rmse: 0.2672 - masked_rmse_clip: 0.2485 - val_loss: 1.9009 - val_masked_rmse: 0.5203 - val_masked_rmse_clip: 0.3970\n",
      "Epoch 77/100\n",
      "12393/12393 [==============================] - 2s 136us/sample - loss: 0.5577 - masked_rmse: 0.2655 - masked_rmse_clip: 0.2472 - val_loss: 1.8965 - val_masked_rmse: 0.5209 - val_masked_rmse_clip: 0.3968\n",
      "Epoch 78/100\n",
      "12393/12393 [==============================] - 2s 138us/sample - loss: 0.5526 - masked_rmse: 0.2667 - masked_rmse_clip: 0.2481 - val_loss: 1.9040 - val_masked_rmse: 0.5239 - val_masked_rmse_clip: 0.3982\n",
      "Epoch 79/100\n",
      "12393/12393 [==============================] - 2s 135us/sample - loss: 0.5469 - masked_rmse: 0.2669 - masked_rmse_clip: 0.2488 - val_loss: 1.8909 - val_masked_rmse: 0.5226 - val_masked_rmse_clip: 0.3972\n",
      "Epoch 80/100\n",
      "12393/12393 [==============================] - 2s 137us/sample - loss: 0.5396 - masked_rmse: 0.2643 - masked_rmse_clip: 0.2458 - val_loss: 1.8735 - val_masked_rmse: 0.5197 - val_masked_rmse_clip: 0.3970\n",
      "Epoch 81/100\n",
      "12393/12393 [==============================] - 2s 139us/sample - loss: 0.5341 - masked_rmse: 0.2655 - masked_rmse_clip: 0.2464 - val_loss: 1.8945 - val_masked_rmse: 0.5254 - val_masked_rmse_clip: 0.3986\n",
      "Epoch 82/100\n",
      "12393/12393 [==============================] - 2s 136us/sample - loss: 0.5290 - masked_rmse: 0.2650 - masked_rmse_clip: 0.2468 - val_loss: 1.8700 - val_masked_rmse: 0.5208 - val_masked_rmse_clip: 0.3978\n",
      "Epoch 83/100\n",
      "12393/12393 [==============================] - 2s 136us/sample - loss: 0.5221 - masked_rmse: 0.2637 - masked_rmse_clip: 0.2453 - val_loss: 1.8510 - val_masked_rmse: 0.5191 - val_masked_rmse_clip: 0.3960\n",
      "Epoch 84/100\n",
      "12393/12393 [==============================] - 2s 135us/sample - loss: 0.5160 - masked_rmse: 0.2621 - masked_rmse_clip: 0.2436 - val_loss: 1.8491 - val_masked_rmse: 0.5188 - val_masked_rmse_clip: 0.3963\n",
      "Epoch 85/100\n",
      "12393/12393 [==============================] - 2s 134us/sample - loss: 0.5117 - masked_rmse: 0.2633 - masked_rmse_clip: 0.2451 - val_loss: 1.8410 - val_masked_rmse: 0.5193 - val_masked_rmse_clip: 0.3972\n",
      "Epoch 86/100\n",
      "12393/12393 [==============================] - 2s 133us/sample - loss: 0.5088 - masked_rmse: 0.2659 - masked_rmse_clip: 0.2474 - val_loss: 1.8424 - val_masked_rmse: 0.5209 - val_masked_rmse_clip: 0.3981\n",
      "Epoch 87/100\n",
      "12393/12393 [==============================] - 2s 135us/sample - loss: 0.5032 - masked_rmse: 0.2642 - masked_rmse_clip: 0.2464 - val_loss: 1.8410 - val_masked_rmse: 0.5205 - val_masked_rmse_clip: 0.3969\n",
      "Epoch 88/100\n",
      "12393/12393 [==============================] - 2s 137us/sample - loss: 0.4981 - masked_rmse: 0.2622 - masked_rmse_clip: 0.2438 - val_loss: 1.8418 - val_masked_rmse: 0.5218 - val_masked_rmse_clip: 0.3969\n",
      "Epoch 89/100\n",
      "12393/12393 [==============================] - 2s 134us/sample - loss: 0.4925 - masked_rmse: 0.2617 - masked_rmse_clip: 0.2439 - val_loss: 1.8244 - val_masked_rmse: 0.5189 - val_masked_rmse_clip: 0.3971\n",
      "Epoch 90/100\n",
      "12393/12393 [==============================] - 2s 135us/sample - loss: 0.4867 - masked_rmse: 0.2592 - masked_rmse_clip: 0.2411 - val_loss: 1.8293 - val_masked_rmse: 0.5223 - val_masked_rmse_clip: 0.3977\n",
      "Epoch 91/100\n",
      "12393/12393 [==============================] - 2s 133us/sample - loss: 0.4828 - masked_rmse: 0.2601 - masked_rmse_clip: 0.2425 - val_loss: 1.8122 - val_masked_rmse: 0.5194 - val_masked_rmse_clip: 0.3974\n",
      "Epoch 92/100\n",
      "12393/12393 [==============================] - 2s 132us/sample - loss: 0.4791 - masked_rmse: 0.2614 - masked_rmse_clip: 0.2429 - val_loss: 1.8214 - val_masked_rmse: 0.5227 - val_masked_rmse_clip: 0.3975\n",
      "Epoch 93/100\n",
      "12393/12393 [==============================] - 2s 134us/sample - loss: 0.4762 - masked_rmse: 0.2633 - masked_rmse_clip: 0.2451 - val_loss: 1.8031 - val_masked_rmse: 0.5190 - val_masked_rmse_clip: 0.3968\n",
      "Epoch 94/100\n",
      "12393/12393 [==============================] - 2s 133us/sample - loss: 0.4698 - masked_rmse: 0.2596 - masked_rmse_clip: 0.2407 - val_loss: 1.8287 - val_masked_rmse: 0.5256 - val_masked_rmse_clip: 0.3983\n",
      "Epoch 95/100\n",
      "12393/12393 [==============================] - 2s 133us/sample - loss: 0.4668 - masked_rmse: 0.2606 - masked_rmse_clip: 0.2425 - val_loss: 1.8043 - val_masked_rmse: 0.5213 - val_masked_rmse_clip: 0.3982\n",
      "Epoch 96/100\n",
      "12393/12393 [==============================] - 2s 133us/sample - loss: 0.4631 - masked_rmse: 0.2602 - masked_rmse_clip: 0.2418 - val_loss: 1.8119 - val_masked_rmse: 0.5240 - val_masked_rmse_clip: 0.3988\n",
      "Epoch 97/100\n",
      "12393/12393 [==============================] - 2s 133us/sample - loss: 0.4589 - masked_rmse: 0.2579 - masked_rmse_clip: 0.2404 - val_loss: 1.7932 - val_masked_rmse: 0.5194 - val_masked_rmse_clip: 0.3977\n",
      "Epoch 98/100\n",
      "12393/12393 [==============================] - 2s 133us/sample - loss: 0.4553 - masked_rmse: 0.2579 - masked_rmse_clip: 0.2389 - val_loss: 1.7665 - val_masked_rmse: 0.5151 - val_masked_rmse_clip: 0.3963\n",
      "Epoch 99/100\n",
      "12393/12393 [==============================] - 2s 135us/sample - loss: 0.4535 - masked_rmse: 0.2598 - masked_rmse_clip: 0.2419 - val_loss: 1.7930 - val_masked_rmse: 0.5212 - val_masked_rmse_clip: 0.3981\n",
      "Epoch 100/100\n",
      "12393/12393 [==============================] - 2s 134us/sample - loss: 0.4482 - masked_rmse: 0.2572 - masked_rmse_clip: 0.2393 - val_loss: 1.7726 - val_masked_rmse: 0.5187 - val_masked_rmse_clip: 0.3980\n"
     ]
    }
   ],
   "source": [
    "hist_Deep_AE = Deep_AE.fit(x=users_items_matrix_train_zero, y=users_items_matrix_train_zero,\n",
    "                  epochs=100,\n",
    "                  batch_size=256,\n",
    "                  validation_data=[users_items_matrix_train_zero, users_items_matrix_validate], verbose=1)"
   ]
  },
  {
   "cell_type": "code",
   "execution_count": null,
   "metadata": {
    "colab": {
     "base_uri": "https://localhost:8080/"
    },
    "id": "s1H4dBBbJRbR",
    "outputId": "5dcc49db-1265-4f7a-8aa3-ece593663a32"
   },
   "outputs": [
    {
     "data": {
      "image/png": "[encoded data removed]",
      "text/plain": [
       "<Figure size 432x288 with 1 Axes>"
      ]
     },
     "metadata": {
      "needs_background": "light",
      "tags": []
     },
     "output_type": "display_data"
    }
   ],
   "source": [
    "show_error(hist_Deep_AE, 20)"
   ]
  },
  {
   "cell_type": "code",
   "execution_count": null,
   "metadata": {
    "colab": {
     "base_uri": "https://localhost:8080/"
    },
    "id": "j7JOdQkfJRbU",
    "outputId": "15c3aec2-c162-4513-8c64-f696d5b09840"
   },
   "outputs": [
    {
     "data": {
      "image/png": "[encoded data removed]",
      "text/plain": [
       "<Figure size 432x288 with 1 Axes>"
      ]
     },
     "metadata": {
      "needs_background": "light",
      "tags": []
     },
     "output_type": "display_data"
    }
   ],
   "source": [
    "show_rmse(hist_Deep_AE, 20)"
   ]
  },
  {
   "cell_type": "code",
   "execution_count": null,
   "metadata": {
    "id": "1fsJFh83JRbW"
   },
   "outputs": [],
   "source": [
    "predict_deep = Deep_AE.predict(users_items_matrix_train_zero)"
   ]
  },
  {
   "cell_type": "code",
   "execution_count": null,
   "metadata": {
    "id": "ATC_y32AJRbY"
   },
   "outputs": [],
   "source": [
    "test_result_deep = Deep_AE.evaluate(users_items_matrix_train_zero, users_items_matrix_test, verbose=2)"
   ]
  },
  {
   "cell_type": "code",
   "execution_count": null,
   "metadata": {
    "colab": {
     "base_uri": "https://localhost:8080/"
    },
    "id": "S6GyyH1FwmZJ",
    "outputId": "e322f64e-2421-4563-edf8-4e03950df564"
   },
   "outputs": [
    {
     "data": {
      "text/plain": [
       "[2.0056809955500117, 0.57944727, 0.4479232]"
      ]
     },
     "execution_count": 44,
     "metadata": {
      "tags": []
     },
     "output_type": "execute_result"
    }
   ],
   "source": [
    "test_result_deep"
   ]
  },
  {
   "cell_type": "code",
   "execution_count": null,
   "metadata": {
    "id": "dfaBJTyXJRba"
   },
   "outputs": [],
   "source": [
    "def save_model(model):\n",
    "  # serialize weights to HDF5\n",
    "  model.save_weights(\"model/GameAEmodel.h5\")\n",
    "  print(\"Saved model to disk\")"
   ]
  },
  {
   "cell_type": "code",
   "execution_count": null,
   "metadata": {
    "id": "S8XYJCwZJRbc"
   },
   "outputs": [],
   "source": [
    "def load_model():\n",
    "  loaded_model = Deep_AE_model(users_items_matrix_train_zero, layers, activation, last_activation, dropout, regularizer_encode, regularizer_decode)\n",
    "  loaded_model.load_weights(\"model/GameAEmodel.h5\")\n",
    "  return loaded_model"
   ]
  },
  {
   "cell_type": "code",
   "execution_count": null,
   "metadata": {
    "colab": {
     "base_uri": "https://localhost:8080/"
    },
    "id": "QMN2GVb4JRbd",
    "outputId": "5d8f562a-eb82-4d7d-f53d-8616aa41dadf"
   },
   "outputs": [
    {
     "name": "stdout",
     "output_type": "stream",
     "text": [
      "Saved model to disk\n"
     ]
    }
   ],
   "source": [
    "save_model(Deep_AE)"
   ]
  },
  {
   "cell_type": "code",
   "execution_count": null,
   "metadata": {
    "id": "kvyK6EuIJRbf"
   },
   "outputs": [],
   "source": [
    "# model = load_model()"
   ]
  },
  {
   "cell_type": "code",
   "execution_count": null,
   "metadata": {
    "id": "zrjvpFdnJRbh"
   },
   "outputs": [],
   "source": [
    "predictions = predict_deep"
   ]
  },
  {
   "cell_type": "code",
   "execution_count": null,
   "metadata": {
    "colab": {
     "base_uri": "https://localhost:8080/"
    },
    "id": "RWu3bI_2JRbi",
    "outputId": "4873ab4e-d3c6-44eb-d13f-9a5133f8f867"
   },
   "outputs": [
    {
     "data": {
      "text/plain": [
       "(12393, 5155)"
      ]
     },
     "execution_count": 50,
     "metadata": {
      "tags": []
     },
     "output_type": "execute_result"
    }
   ],
   "source": [
    "predictions.shape"
   ]
  },
  {
   "cell_type": "markdown",
   "metadata": {
    "id": "pAon5NE6tJ3A"
   },
   "source": [
    "### **Making Recommendations for unknown ratings**"
   ]
  },
  {
   "cell_type": "code",
   "execution_count": null,
   "metadata": {
    "id": "zUwZx8arkyhW"
   },
   "outputs": [],
   "source": [
    "item = items.reshape(-1,1)\n",
    "\n",
    "def getGameRecommendation(user, topN):\n",
    "    index = 0\n",
    "    rec= []\n",
    "    user = data[data['user']==user]\n",
    "    index = int(user['userID'].iloc[0])\n",
    "    pred = predictions[index]\n",
    "    pred = np.clip(pred, 1 , 5)    \n",
    "    pred = pred.reshape(-1,1)\n",
    "    rec = np.concatenate((item,pred),axis = 1)\n",
    "    rec_df = pd.DataFrame(data=rec, columns=[\"game\", \"rating\"])\n",
    "    rec_df = rec_df.sort_values([\"rating\"], ascending = False)\n",
    "    return rec_df[0:topN]"
   ]
  },
  {
   "cell_type": "code",
   "execution_count": null,
   "metadata": {
    "colab": {
     "base_uri": "https://localhost:8080/",
     "height": 1000
    },
    "id": "n1BEeNQgkk7B",
    "outputId": "e0393b7d-e09b-4c4e-e07f-b3e3ffc7d226"
   },
   "outputs": [
    {
     "data": {
      "text/html": [
       "<div>\n",
       "<style scoped>\n",
       "    .dataframe tbody tr th:only-of-type {\n",
       "        vertical-align: middle;\n",
       "    }\n",
       "\n",
       "    .dataframe tbody tr th {\n",
       "        vertical-align: top;\n",
       "    }\n",
       "\n",
       "    .dataframe thead th {\n",
       "        text-align: right;\n",
       "    }\n",
       "</style>\n",
       "<table border=\"1\" class=\"dataframe\">\n",
       "  <thead>\n",
       "    <tr style=\"text-align: right;\">\n",
       "      <th></th>\n",
       "      <th>user</th>\n",
       "      <th>game</th>\n",
       "      <th>hrs</th>\n",
       "      <th>purchase</th>\n",
       "      <th>play</th>\n",
       "      <th>rating</th>\n",
       "      <th>userID</th>\n",
       "      <th>itemID</th>\n",
       "    </tr>\n",
       "  </thead>\n",
       "  <tbody>\n",
       "    <tr>\n",
       "      <th>21</th>\n",
       "      <td>76767</td>\n",
       "      <td>Age of Empires II HD Edition</td>\n",
       "      <td>786.0</td>\n",
       "      <td>1</td>\n",
       "      <td>1</td>\n",
       "      <td>4</td>\n",
       "      <td>1.0</td>\n",
       "      <td>21.0</td>\n",
       "    </tr>\n",
       "    <tr>\n",
       "      <th>22</th>\n",
       "      <td>76767</td>\n",
       "      <td>Alien Swarm</td>\n",
       "      <td>48.0</td>\n",
       "      <td>1</td>\n",
       "      <td>1</td>\n",
       "      <td>2</td>\n",
       "      <td>1.0</td>\n",
       "      <td>0.0</td>\n",
       "    </tr>\n",
       "    <tr>\n",
       "      <th>23</th>\n",
       "      <td>76767</td>\n",
       "      <td>Arma 2</td>\n",
       "      <td>0.0</td>\n",
       "      <td>1</td>\n",
       "      <td>0</td>\n",
       "      <td>1</td>\n",
       "      <td>1.0</td>\n",
       "      <td>22.0</td>\n",
       "    </tr>\n",
       "    <tr>\n",
       "      <th>24</th>\n",
       "      <td>76767</td>\n",
       "      <td>Arma 2 Operation Arrowhead</td>\n",
       "      <td>0.0</td>\n",
       "      <td>1</td>\n",
       "      <td>0</td>\n",
       "      <td>1</td>\n",
       "      <td>1.0</td>\n",
       "      <td>23.0</td>\n",
       "    </tr>\n",
       "    <tr>\n",
       "      <th>25</th>\n",
       "      <td>76767</td>\n",
       "      <td>Arma 2 Operation Arrowhead Beta (Obsolete)</td>\n",
       "      <td>0.0</td>\n",
       "      <td>1</td>\n",
       "      <td>0</td>\n",
       "      <td>1</td>\n",
       "      <td>1.0</td>\n",
       "      <td>24.0</td>\n",
       "    </tr>\n",
       "    <tr>\n",
       "      <th>26</th>\n",
       "      <td>76767</td>\n",
       "      <td>Banished</td>\n",
       "      <td>1440.0</td>\n",
       "      <td>1</td>\n",
       "      <td>1</td>\n",
       "      <td>5</td>\n",
       "      <td>1.0</td>\n",
       "      <td>25.0</td>\n",
       "    </tr>\n",
       "    <tr>\n",
       "      <th>27</th>\n",
       "      <td>76767</td>\n",
       "      <td>Call of Duty Black Ops</td>\n",
       "      <td>1320.0</td>\n",
       "      <td>1</td>\n",
       "      <td>1</td>\n",
       "      <td>5</td>\n",
       "      <td>1.0</td>\n",
       "      <td>26.0</td>\n",
       "    </tr>\n",
       "    <tr>\n",
       "      <th>28</th>\n",
       "      <td>76767</td>\n",
       "      <td>Call of Duty Black Ops - Multiplayer</td>\n",
       "      <td>750.0</td>\n",
       "      <td>1</td>\n",
       "      <td>1</td>\n",
       "      <td>4</td>\n",
       "      <td>1.0</td>\n",
       "      <td>27.0</td>\n",
       "    </tr>\n",
       "    <tr>\n",
       "      <th>29</th>\n",
       "      <td>76767</td>\n",
       "      <td>Call of Duty Modern Warfare 2</td>\n",
       "      <td>3900.0</td>\n",
       "      <td>1</td>\n",
       "      <td>1</td>\n",
       "      <td>5</td>\n",
       "      <td>1.0</td>\n",
       "      <td>28.0</td>\n",
       "    </tr>\n",
       "    <tr>\n",
       "      <th>30</th>\n",
       "      <td>76767</td>\n",
       "      <td>Call of Duty Modern Warfare 2 - Multiplayer</td>\n",
       "      <td>9900.0</td>\n",
       "      <td>1</td>\n",
       "      <td>1</td>\n",
       "      <td>5</td>\n",
       "      <td>1.0</td>\n",
       "      <td>29.0</td>\n",
       "    </tr>\n",
       "    <tr>\n",
       "      <th>31</th>\n",
       "      <td>76767</td>\n",
       "      <td>Call of Duty Modern Warfare 3</td>\n",
       "      <td>954.0</td>\n",
       "      <td>1</td>\n",
       "      <td>1</td>\n",
       "      <td>4</td>\n",
       "      <td>1.0</td>\n",
       "      <td>30.0</td>\n",
       "    </tr>\n",
       "    <tr>\n",
       "      <th>32</th>\n",
       "      <td>76767</td>\n",
       "      <td>Call of Duty Modern Warfare 3 - Multiplayer</td>\n",
       "      <td>582.0</td>\n",
       "      <td>1</td>\n",
       "      <td>1</td>\n",
       "      <td>4</td>\n",
       "      <td>1.0</td>\n",
       "      <td>31.0</td>\n",
       "    </tr>\n",
       "    <tr>\n",
       "      <th>33</th>\n",
       "      <td>76767</td>\n",
       "      <td>Call of Duty World at War</td>\n",
       "      <td>16260.0</td>\n",
       "      <td>1</td>\n",
       "      <td>1</td>\n",
       "      <td>5</td>\n",
       "      <td>1.0</td>\n",
       "      <td>32.0</td>\n",
       "    </tr>\n",
       "    <tr>\n",
       "      <th>34</th>\n",
       "      <td>76767</td>\n",
       "      <td>Counter-Strike</td>\n",
       "      <td>21900.0</td>\n",
       "      <td>1</td>\n",
       "      <td>1</td>\n",
       "      <td>5</td>\n",
       "      <td>1.0</td>\n",
       "      <td>2.0</td>\n",
       "    </tr>\n",
       "    <tr>\n",
       "      <th>35</th>\n",
       "      <td>76767</td>\n",
       "      <td>Counter-Strike Global Offensive</td>\n",
       "      <td>210.0</td>\n",
       "      <td>1</td>\n",
       "      <td>1</td>\n",
       "      <td>3</td>\n",
       "      <td>1.0</td>\n",
       "      <td>33.0</td>\n",
       "    </tr>\n",
       "    <tr>\n",
       "      <th>36</th>\n",
       "      <td>76767</td>\n",
       "      <td>Counter-Strike Source</td>\n",
       "      <td>1500.0</td>\n",
       "      <td>1</td>\n",
       "      <td>1</td>\n",
       "      <td>5</td>\n",
       "      <td>1.0</td>\n",
       "      <td>3.0</td>\n",
       "    </tr>\n",
       "    <tr>\n",
       "      <th>37</th>\n",
       "      <td>76767</td>\n",
       "      <td>Day of Defeat</td>\n",
       "      <td>0.0</td>\n",
       "      <td>1</td>\n",
       "      <td>0</td>\n",
       "      <td>1</td>\n",
       "      <td>1.0</td>\n",
       "      <td>4.0</td>\n",
       "    </tr>\n",
       "    <tr>\n",
       "      <th>38</th>\n",
       "      <td>76767</td>\n",
       "      <td>Deathmatch Classic</td>\n",
       "      <td>0.0</td>\n",
       "      <td>1</td>\n",
       "      <td>0</td>\n",
       "      <td>1</td>\n",
       "      <td>1.0</td>\n",
       "      <td>5.0</td>\n",
       "    </tr>\n",
       "    <tr>\n",
       "      <th>39</th>\n",
       "      <td>76767</td>\n",
       "      <td>Half-Life</td>\n",
       "      <td>72.0</td>\n",
       "      <td>1</td>\n",
       "      <td>1</td>\n",
       "      <td>3</td>\n",
       "      <td>1.0</td>\n",
       "      <td>8.0</td>\n",
       "    </tr>\n",
       "    <tr>\n",
       "      <th>40</th>\n",
       "      <td>76767</td>\n",
       "      <td>Half-Life Blue Shift</td>\n",
       "      <td>0.0</td>\n",
       "      <td>1</td>\n",
       "      <td>0</td>\n",
       "      <td>1</td>\n",
       "      <td>1.0</td>\n",
       "      <td>14.0</td>\n",
       "    </tr>\n",
       "    <tr>\n",
       "      <th>41</th>\n",
       "      <td>76767</td>\n",
       "      <td>Half-Life Opposing Force</td>\n",
       "      <td>0.0</td>\n",
       "      <td>1</td>\n",
       "      <td>0</td>\n",
       "      <td>1</td>\n",
       "      <td>1.0</td>\n",
       "      <td>15.0</td>\n",
       "    </tr>\n",
       "    <tr>\n",
       "      <th>42</th>\n",
       "      <td>76767</td>\n",
       "      <td>Portal 2</td>\n",
       "      <td>900.0</td>\n",
       "      <td>1</td>\n",
       "      <td>1</td>\n",
       "      <td>4</td>\n",
       "      <td>1.0</td>\n",
       "      <td>17.0</td>\n",
       "    </tr>\n",
       "    <tr>\n",
       "      <th>43</th>\n",
       "      <td>76767</td>\n",
       "      <td>Ricochet</td>\n",
       "      <td>0.0</td>\n",
       "      <td>1</td>\n",
       "      <td>0</td>\n",
       "      <td>1</td>\n",
       "      <td>1.0</td>\n",
       "      <td>18.0</td>\n",
       "    </tr>\n",
       "    <tr>\n",
       "      <th>44</th>\n",
       "      <td>76767</td>\n",
       "      <td>Rise of Nations Extended Edition</td>\n",
       "      <td>342.0</td>\n",
       "      <td>1</td>\n",
       "      <td>1</td>\n",
       "      <td>4</td>\n",
       "      <td>1.0</td>\n",
       "      <td>34.0</td>\n",
       "    </tr>\n",
       "    <tr>\n",
       "      <th>45</th>\n",
       "      <td>76767</td>\n",
       "      <td>Team Fortress Classic</td>\n",
       "      <td>0.0</td>\n",
       "      <td>1</td>\n",
       "      <td>0</td>\n",
       "      <td>1</td>\n",
       "      <td>1.0</td>\n",
       "      <td>20.0</td>\n",
       "    </tr>\n",
       "    <tr>\n",
       "      <th>46</th>\n",
       "      <td>76767</td>\n",
       "      <td>The Stanley Parable</td>\n",
       "      <td>108.0</td>\n",
       "      <td>1</td>\n",
       "      <td>1</td>\n",
       "      <td>3</td>\n",
       "      <td>1.0</td>\n",
       "      <td>35.0</td>\n",
       "    </tr>\n",
       "    <tr>\n",
       "      <th>47</th>\n",
       "      <td>76767</td>\n",
       "      <td>Thief</td>\n",
       "      <td>0.0</td>\n",
       "      <td>1</td>\n",
       "      <td>0</td>\n",
       "      <td>1</td>\n",
       "      <td>1.0</td>\n",
       "      <td>36.0</td>\n",
       "    </tr>\n",
       "    <tr>\n",
       "      <th>48</th>\n",
       "      <td>76767</td>\n",
       "      <td>Thief - Ghost</td>\n",
       "      <td>0.0</td>\n",
       "      <td>1</td>\n",
       "      <td>0</td>\n",
       "      <td>1</td>\n",
       "      <td>1.0</td>\n",
       "      <td>37.0</td>\n",
       "    </tr>\n",
       "    <tr>\n",
       "      <th>49</th>\n",
       "      <td>76767</td>\n",
       "      <td>Thief - Opportunist</td>\n",
       "      <td>0.0</td>\n",
       "      <td>1</td>\n",
       "      <td>0</td>\n",
       "      <td>1</td>\n",
       "      <td>1.0</td>\n",
       "      <td>38.0</td>\n",
       "    </tr>\n",
       "    <tr>\n",
       "      <th>50</th>\n",
       "      <td>76767</td>\n",
       "      <td>Thief - Predator</td>\n",
       "      <td>0.0</td>\n",
       "      <td>1</td>\n",
       "      <td>0</td>\n",
       "      <td>1</td>\n",
       "      <td>1.0</td>\n",
       "      <td>39.0</td>\n",
       "    </tr>\n",
       "    <tr>\n",
       "      <th>51</th>\n",
       "      <td>76767</td>\n",
       "      <td>Thief - The Bank Heist</td>\n",
       "      <td>0.0</td>\n",
       "      <td>1</td>\n",
       "      <td>0</td>\n",
       "      <td>1</td>\n",
       "      <td>1.0</td>\n",
       "      <td>40.0</td>\n",
       "    </tr>\n",
       "    <tr>\n",
       "      <th>52</th>\n",
       "      <td>76767</td>\n",
       "      <td>Thief 2</td>\n",
       "      <td>0.0</td>\n",
       "      <td>1</td>\n",
       "      <td>0</td>\n",
       "      <td>1</td>\n",
       "      <td>1.0</td>\n",
       "      <td>41.0</td>\n",
       "    </tr>\n",
       "    <tr>\n",
       "      <th>53</th>\n",
       "      <td>76767</td>\n",
       "      <td>Thief Deadly Shadows</td>\n",
       "      <td>204.0</td>\n",
       "      <td>1</td>\n",
       "      <td>1</td>\n",
       "      <td>3</td>\n",
       "      <td>1.0</td>\n",
       "      <td>42.0</td>\n",
       "    </tr>\n",
       "    <tr>\n",
       "      <th>54</th>\n",
       "      <td>76767</td>\n",
       "      <td>Thief Gold</td>\n",
       "      <td>0.0</td>\n",
       "      <td>1</td>\n",
       "      <td>0</td>\n",
       "      <td>1</td>\n",
       "      <td>1.0</td>\n",
       "      <td>43.0</td>\n",
       "    </tr>\n",
       "    <tr>\n",
       "      <th>55</th>\n",
       "      <td>76767</td>\n",
       "      <td>Total War ATTILA</td>\n",
       "      <td>12420.0</td>\n",
       "      <td>1</td>\n",
       "      <td>1</td>\n",
       "      <td>5</td>\n",
       "      <td>1.0</td>\n",
       "      <td>44.0</td>\n",
       "    </tr>\n",
       "    <tr>\n",
       "      <th>56</th>\n",
       "      <td>76767</td>\n",
       "      <td>Worms Armageddon</td>\n",
       "      <td>24.0</td>\n",
       "      <td>1</td>\n",
       "      <td>1</td>\n",
       "      <td>2</td>\n",
       "      <td>1.0</td>\n",
       "      <td>45.0</td>\n",
       "    </tr>\n",
       "  </tbody>\n",
       "</table>\n",
       "</div>"
      ],
      "text/plain": [
       "     user                                         game  ...  userID  itemID\n",
       "21  76767                 Age of Empires II HD Edition  ...     1.0    21.0\n",
       "22  76767                                  Alien Swarm  ...     1.0     0.0\n",
       "23  76767                                       Arma 2  ...     1.0    22.0\n",
       "24  76767                   Arma 2 Operation Arrowhead  ...     1.0    23.0\n",
       "25  76767   Arma 2 Operation Arrowhead Beta (Obsolete)  ...     1.0    24.0\n",
       "26  76767                                     Banished  ...     1.0    25.0\n",
       "27  76767                       Call of Duty Black Ops  ...     1.0    26.0\n",
       "28  76767         Call of Duty Black Ops - Multiplayer  ...     1.0    27.0\n",
       "29  76767                Call of Duty Modern Warfare 2  ...     1.0    28.0\n",
       "30  76767  Call of Duty Modern Warfare 2 - Multiplayer  ...     1.0    29.0\n",
       "31  76767                Call of Duty Modern Warfare 3  ...     1.0    30.0\n",
       "32  76767  Call of Duty Modern Warfare 3 - Multiplayer  ...     1.0    31.0\n",
       "33  76767                    Call of Duty World at War  ...     1.0    32.0\n",
       "34  76767                               Counter-Strike  ...     1.0     2.0\n",
       "35  76767              Counter-Strike Global Offensive  ...     1.0    33.0\n",
       "36  76767                        Counter-Strike Source  ...     1.0     3.0\n",
       "37  76767                                Day of Defeat  ...     1.0     4.0\n",
       "38  76767                           Deathmatch Classic  ...     1.0     5.0\n",
       "39  76767                                    Half-Life  ...     1.0     8.0\n",
       "40  76767                         Half-Life Blue Shift  ...     1.0    14.0\n",
       "41  76767                     Half-Life Opposing Force  ...     1.0    15.0\n",
       "42  76767                                     Portal 2  ...     1.0    17.0\n",
       "43  76767                                     Ricochet  ...     1.0    18.0\n",
       "44  76767             Rise of Nations Extended Edition  ...     1.0    34.0\n",
       "45  76767                        Team Fortress Classic  ...     1.0    20.0\n",
       "46  76767                          The Stanley Parable  ...     1.0    35.0\n",
       "47  76767                                        Thief  ...     1.0    36.0\n",
       "48  76767                                Thief - Ghost  ...     1.0    37.0\n",
       "49  76767                          Thief - Opportunist  ...     1.0    38.0\n",
       "50  76767                             Thief - Predator  ...     1.0    39.0\n",
       "51  76767                       Thief - The Bank Heist  ...     1.0    40.0\n",
       "52  76767                                      Thief 2  ...     1.0    41.0\n",
       "53  76767                         Thief Deadly Shadows  ...     1.0    42.0\n",
       "54  76767                                   Thief Gold  ...     1.0    43.0\n",
       "55  76767                             Total War ATTILA  ...     1.0    44.0\n",
       "56  76767                             Worms Armageddon  ...     1.0    45.0\n",
       "\n",
       "[36 rows x 8 columns]"
      ]
     },
     "execution_count": 80,
     "metadata": {
      "tags": []
     },
     "output_type": "execute_result"
    }
   ],
   "source": [
    "data[data['user']==76767]"
   ]
  },
  {
   "cell_type": "code",
   "execution_count": null,
   "metadata": {
    "colab": {
     "base_uri": "https://localhost:8080/",
     "height": 355
    },
    "id": "TaBt4FsSJRbo",
    "outputId": "62ae3c03-240a-4cec-e287-5fe694681bde"
   },
   "outputs": [
    {
     "data": {
      "text/html": [
       "<div>\n",
       "<style scoped>\n",
       "    .dataframe tbody tr th:only-of-type {\n",
       "        vertical-align: middle;\n",
       "    }\n",
       "\n",
       "    .dataframe tbody tr th {\n",
       "        vertical-align: top;\n",
       "    }\n",
       "\n",
       "    .dataframe thead th {\n",
       "        text-align: right;\n",
       "    }\n",
       "</style>\n",
       "<table border=\"1\" class=\"dataframe\">\n",
       "  <thead>\n",
       "    <tr style=\"text-align: right;\">\n",
       "      <th></th>\n",
       "      <th>game</th>\n",
       "      <th>rating</th>\n",
       "    </tr>\n",
       "  </thead>\n",
       "  <tbody>\n",
       "    <tr>\n",
       "      <th>752</th>\n",
       "      <td>The Escapists</td>\n",
       "      <td>5</td>\n",
       "    </tr>\n",
       "    <tr>\n",
       "      <th>1266</th>\n",
       "      <td>Farming Simulator 15</td>\n",
       "      <td>5</td>\n",
       "    </tr>\n",
       "    <tr>\n",
       "      <th>1442</th>\n",
       "      <td>Football Manager 2014</td>\n",
       "      <td>5</td>\n",
       "    </tr>\n",
       "    <tr>\n",
       "      <th>2174</th>\n",
       "      <td>Football Manager 2010</td>\n",
       "      <td>5</td>\n",
       "    </tr>\n",
       "    <tr>\n",
       "      <th>166</th>\n",
       "      <td>Divinity Original Sin</td>\n",
       "      <td>5</td>\n",
       "    </tr>\n",
       "    <tr>\n",
       "      <th>4213</th>\n",
       "      <td>LEGO Jurassic World</td>\n",
       "      <td>5</td>\n",
       "    </tr>\n",
       "    <tr>\n",
       "      <th>3900</th>\n",
       "      <td>MLB Front Office Manager</td>\n",
       "      <td>5</td>\n",
       "    </tr>\n",
       "    <tr>\n",
       "      <th>867</th>\n",
       "      <td>The Binding of Isaac Rebirth</td>\n",
       "      <td>4.99736</td>\n",
       "    </tr>\n",
       "    <tr>\n",
       "      <th>1383</th>\n",
       "      <td>Pro Evolution Soccer 2014</td>\n",
       "      <td>4.99144</td>\n",
       "    </tr>\n",
       "    <tr>\n",
       "      <th>120</th>\n",
       "      <td>Age of Empires III Complete Collection</td>\n",
       "      <td>4.95068</td>\n",
       "    </tr>\n",
       "  </tbody>\n",
       "</table>\n",
       "</div>"
      ],
      "text/plain": [
       "                                        game   rating\n",
       "752                            The Escapists        5\n",
       "1266                    Farming Simulator 15        5\n",
       "1442                   Football Manager 2014        5\n",
       "2174                   Football Manager 2010        5\n",
       "166                    Divinity Original Sin        5\n",
       "4213                     LEGO Jurassic World        5\n",
       "3900                MLB Front Office Manager        5\n",
       "867             The Binding of Isaac Rebirth  4.99736\n",
       "1383               Pro Evolution Soccer 2014  4.99144\n",
       "120   Age of Empires III Complete Collection  4.95068"
      ]
     },
     "execution_count": 81,
     "metadata": {
      "tags": []
     },
     "output_type": "execute_result"
    }
   ],
   "source": [
    "getGameRecommendation(76767, 10)"
   ]
  },
  {
   "cell_type": "code",
   "execution_count": null,
   "metadata": {
    "colab": {
     "base_uri": "https://localhost:8080/",
     "height": 355
    },
    "id": "Zfi0QbeAvYjJ",
    "outputId": "b2d63b79-7051-47fb-81a8-21aaf36044e5"
   },
   "outputs": [
    {
     "data": {
      "text/html": [
       "<div>\n",
       "<style scoped>\n",
       "    .dataframe tbody tr th:only-of-type {\n",
       "        vertical-align: middle;\n",
       "    }\n",
       "\n",
       "    .dataframe tbody tr th {\n",
       "        vertical-align: top;\n",
       "    }\n",
       "\n",
       "    .dataframe thead th {\n",
       "        text-align: right;\n",
       "    }\n",
       "</style>\n",
       "<table border=\"1\" class=\"dataframe\">\n",
       "  <thead>\n",
       "    <tr style=\"text-align: right;\">\n",
       "      <th></th>\n",
       "      <th>user</th>\n",
       "      <th>game</th>\n",
       "      <th>hrs</th>\n",
       "      <th>purchase</th>\n",
       "      <th>play</th>\n",
       "      <th>rating</th>\n",
       "      <th>userID</th>\n",
       "      <th>itemID</th>\n",
       "    </tr>\n",
       "  </thead>\n",
       "  <tbody>\n",
       "    <tr>\n",
       "      <th>139</th>\n",
       "      <td>103360</td>\n",
       "      <td>Counter-Strike</td>\n",
       "      <td>0.0</td>\n",
       "      <td>1</td>\n",
       "      <td>0</td>\n",
       "      <td>1</td>\n",
       "      <td>3.0</td>\n",
       "      <td>2.0</td>\n",
       "    </tr>\n",
       "    <tr>\n",
       "      <th>140</th>\n",
       "      <td>103360</td>\n",
       "      <td>Counter-Strike Condition Zero</td>\n",
       "      <td>0.0</td>\n",
       "      <td>1</td>\n",
       "      <td>0</td>\n",
       "      <td>1</td>\n",
       "      <td>3.0</td>\n",
       "      <td>111.0</td>\n",
       "    </tr>\n",
       "    <tr>\n",
       "      <th>141</th>\n",
       "      <td>103360</td>\n",
       "      <td>Counter-Strike Condition Zero Deleted Scenes</td>\n",
       "      <td>0.0</td>\n",
       "      <td>1</td>\n",
       "      <td>0</td>\n",
       "      <td>1</td>\n",
       "      <td>3.0</td>\n",
       "      <td>112.0</td>\n",
       "    </tr>\n",
       "    <tr>\n",
       "      <th>142</th>\n",
       "      <td>103360</td>\n",
       "      <td>Day of Defeat</td>\n",
       "      <td>0.0</td>\n",
       "      <td>1</td>\n",
       "      <td>0</td>\n",
       "      <td>1</td>\n",
       "      <td>3.0</td>\n",
       "      <td>4.0</td>\n",
       "    </tr>\n",
       "    <tr>\n",
       "      <th>143</th>\n",
       "      <td>103360</td>\n",
       "      <td>Deathmatch Classic</td>\n",
       "      <td>0.0</td>\n",
       "      <td>1</td>\n",
       "      <td>0</td>\n",
       "      <td>1</td>\n",
       "      <td>3.0</td>\n",
       "      <td>5.0</td>\n",
       "    </tr>\n",
       "    <tr>\n",
       "      <th>144</th>\n",
       "      <td>103360</td>\n",
       "      <td>Half-Life</td>\n",
       "      <td>0.0</td>\n",
       "      <td>1</td>\n",
       "      <td>0</td>\n",
       "      <td>1</td>\n",
       "      <td>3.0</td>\n",
       "      <td>8.0</td>\n",
       "    </tr>\n",
       "    <tr>\n",
       "      <th>145</th>\n",
       "      <td>103360</td>\n",
       "      <td>Half-Life Blue Shift</td>\n",
       "      <td>0.0</td>\n",
       "      <td>1</td>\n",
       "      <td>0</td>\n",
       "      <td>1</td>\n",
       "      <td>3.0</td>\n",
       "      <td>14.0</td>\n",
       "    </tr>\n",
       "    <tr>\n",
       "      <th>146</th>\n",
       "      <td>103360</td>\n",
       "      <td>Half-Life Opposing Force</td>\n",
       "      <td>0.0</td>\n",
       "      <td>1</td>\n",
       "      <td>0</td>\n",
       "      <td>1</td>\n",
       "      <td>3.0</td>\n",
       "      <td>15.0</td>\n",
       "    </tr>\n",
       "    <tr>\n",
       "      <th>147</th>\n",
       "      <td>103360</td>\n",
       "      <td>Ricochet</td>\n",
       "      <td>0.0</td>\n",
       "      <td>1</td>\n",
       "      <td>0</td>\n",
       "      <td>1</td>\n",
       "      <td>3.0</td>\n",
       "      <td>18.0</td>\n",
       "    </tr>\n",
       "    <tr>\n",
       "      <th>148</th>\n",
       "      <td>103360</td>\n",
       "      <td>Team Fortress Classic</td>\n",
       "      <td>0.0</td>\n",
       "      <td>1</td>\n",
       "      <td>0</td>\n",
       "      <td>1</td>\n",
       "      <td>3.0</td>\n",
       "      <td>20.0</td>\n",
       "    </tr>\n",
       "  </tbody>\n",
       "</table>\n",
       "</div>"
      ],
      "text/plain": [
       "       user                                          game  ...  userID  itemID\n",
       "139  103360                                Counter-Strike  ...     3.0     2.0\n",
       "140  103360                 Counter-Strike Condition Zero  ...     3.0   111.0\n",
       "141  103360  Counter-Strike Condition Zero Deleted Scenes  ...     3.0   112.0\n",
       "142  103360                                 Day of Defeat  ...     3.0     4.0\n",
       "143  103360                            Deathmatch Classic  ...     3.0     5.0\n",
       "144  103360                                     Half-Life  ...     3.0     8.0\n",
       "145  103360                          Half-Life Blue Shift  ...     3.0    14.0\n",
       "146  103360                      Half-Life Opposing Force  ...     3.0    15.0\n",
       "147  103360                                      Ricochet  ...     3.0    18.0\n",
       "148  103360                         Team Fortress Classic  ...     3.0    20.0\n",
       "\n",
       "[10 rows x 8 columns]"
      ]
     },
     "execution_count": 82,
     "metadata": {
      "tags": []
     },
     "output_type": "execute_result"
    }
   ],
   "source": [
    "data[data['user']==103360]"
   ]
  },
  {
   "cell_type": "code",
   "execution_count": null,
   "metadata": {
    "colab": {
     "base_uri": "https://localhost:8080/",
     "height": 355
    },
    "id": "uHCfFTXvwUz5",
    "outputId": "2392aef7-a805-4818-85ea-9941b5fb5273"
   },
   "outputs": [
    {
     "data": {
      "text/html": [
       "<div>\n",
       "<style scoped>\n",
       "    .dataframe tbody tr th:only-of-type {\n",
       "        vertical-align: middle;\n",
       "    }\n",
       "\n",
       "    .dataframe tbody tr th {\n",
       "        vertical-align: top;\n",
       "    }\n",
       "\n",
       "    .dataframe thead th {\n",
       "        text-align: right;\n",
       "    }\n",
       "</style>\n",
       "<table border=\"1\" class=\"dataframe\">\n",
       "  <thead>\n",
       "    <tr style=\"text-align: right;\">\n",
       "      <th></th>\n",
       "      <th>game</th>\n",
       "      <th>rating</th>\n",
       "    </tr>\n",
       "  </thead>\n",
       "  <tbody>\n",
       "    <tr>\n",
       "      <th>418</th>\n",
       "      <td>Synergy</td>\n",
       "      <td>2.91359</td>\n",
       "    </tr>\n",
       "    <tr>\n",
       "      <th>4213</th>\n",
       "      <td>LEGO Jurassic World</td>\n",
       "      <td>2.75891</td>\n",
       "    </tr>\n",
       "    <tr>\n",
       "      <th>2578</th>\n",
       "      <td>Call of Duty Black Ops III</td>\n",
       "      <td>2.67905</td>\n",
       "    </tr>\n",
       "    <tr>\n",
       "      <th>204</th>\n",
       "      <td>Just Cause 2 Multiplayer Mod</td>\n",
       "      <td>2.60107</td>\n",
       "    </tr>\n",
       "    <tr>\n",
       "      <th>1202</th>\n",
       "      <td>RollerCoaster Tycoon 3 Platinum!</td>\n",
       "      <td>2.58124</td>\n",
       "    </tr>\n",
       "    <tr>\n",
       "      <th>133</th>\n",
       "      <td>Battlefield Bad Company 2</td>\n",
       "      <td>2.56348</td>\n",
       "    </tr>\n",
       "    <tr>\n",
       "      <th>832</th>\n",
       "      <td>Grand Theft Auto V</td>\n",
       "      <td>2.51201</td>\n",
       "    </tr>\n",
       "    <tr>\n",
       "      <th>2783</th>\n",
       "      <td>Disciples III Reincarnation</td>\n",
       "      <td>2.49815</td>\n",
       "    </tr>\n",
       "    <tr>\n",
       "      <th>44</th>\n",
       "      <td>Total War ATTILA</td>\n",
       "      <td>2.49788</td>\n",
       "    </tr>\n",
       "    <tr>\n",
       "      <th>904</th>\n",
       "      <td>H1Z1</td>\n",
       "      <td>2.47999</td>\n",
       "    </tr>\n",
       "  </tbody>\n",
       "</table>\n",
       "</div>"
      ],
      "text/plain": [
       "                                  game   rating\n",
       "418                            Synergy  2.91359\n",
       "4213               LEGO Jurassic World  2.75891\n",
       "2578        Call of Duty Black Ops III  2.67905\n",
       "204       Just Cause 2 Multiplayer Mod  2.60107\n",
       "1202  RollerCoaster Tycoon 3 Platinum!  2.58124\n",
       "133          Battlefield Bad Company 2  2.56348\n",
       "832                 Grand Theft Auto V  2.51201\n",
       "2783       Disciples III Reincarnation  2.49815\n",
       "44                    Total War ATTILA  2.49788\n",
       "904                               H1Z1  2.47999"
      ]
     },
     "execution_count": 83,
     "metadata": {
      "tags": []
     },
     "output_type": "execute_result"
    }
   ],
   "source": [
    "getGameRecommendation(103360, 10)"
   ]
  },
  {
   "cell_type": "code",
   "execution_count": null,
   "metadata": {
    "colab": {
     "base_uri": "https://localhost:8080/",
     "height": 693
    },
    "id": "yxtrETAdwds7",
    "outputId": "31beee02-a8ae-4943-8f70-f5c3ae103085"
   },
   "outputs": [
    {
     "data": {
      "text/html": [
       "<div>\n",
       "<style scoped>\n",
       "    .dataframe tbody tr th:only-of-type {\n",
       "        vertical-align: middle;\n",
       "    }\n",
       "\n",
       "    .dataframe tbody tr th {\n",
       "        vertical-align: top;\n",
       "    }\n",
       "\n",
       "    .dataframe thead th {\n",
       "        text-align: right;\n",
       "    }\n",
       "</style>\n",
       "<table border=\"1\" class=\"dataframe\">\n",
       "  <thead>\n",
       "    <tr style=\"text-align: right;\">\n",
       "      <th></th>\n",
       "      <th>user</th>\n",
       "      <th>game</th>\n",
       "      <th>hrs</th>\n",
       "      <th>purchase</th>\n",
       "      <th>play</th>\n",
       "      <th>rating</th>\n",
       "      <th>userID</th>\n",
       "      <th>itemID</th>\n",
       "    </tr>\n",
       "  </thead>\n",
       "  <tbody>\n",
       "    <tr>\n",
       "      <th>0</th>\n",
       "      <td>5250</td>\n",
       "      <td>Alien Swarm</td>\n",
       "      <td>294.0</td>\n",
       "      <td>1</td>\n",
       "      <td>1</td>\n",
       "      <td>4</td>\n",
       "      <td>0.0</td>\n",
       "      <td>0.0</td>\n",
       "    </tr>\n",
       "    <tr>\n",
       "      <th>1</th>\n",
       "      <td>5250</td>\n",
       "      <td>Cities Skylines</td>\n",
       "      <td>8640.0</td>\n",
       "      <td>1</td>\n",
       "      <td>1</td>\n",
       "      <td>5</td>\n",
       "      <td>0.0</td>\n",
       "      <td>1.0</td>\n",
       "    </tr>\n",
       "    <tr>\n",
       "      <th>2</th>\n",
       "      <td>5250</td>\n",
       "      <td>Counter-Strike</td>\n",
       "      <td>0.0</td>\n",
       "      <td>1</td>\n",
       "      <td>0</td>\n",
       "      <td>1</td>\n",
       "      <td>0.0</td>\n",
       "      <td>2.0</td>\n",
       "    </tr>\n",
       "    <tr>\n",
       "      <th>3</th>\n",
       "      <td>5250</td>\n",
       "      <td>Counter-Strike Source</td>\n",
       "      <td>0.0</td>\n",
       "      <td>1</td>\n",
       "      <td>0</td>\n",
       "      <td>1</td>\n",
       "      <td>0.0</td>\n",
       "      <td>3.0</td>\n",
       "    </tr>\n",
       "    <tr>\n",
       "      <th>4</th>\n",
       "      <td>5250</td>\n",
       "      <td>Day of Defeat</td>\n",
       "      <td>0.0</td>\n",
       "      <td>1</td>\n",
       "      <td>0</td>\n",
       "      <td>1</td>\n",
       "      <td>0.0</td>\n",
       "      <td>4.0</td>\n",
       "    </tr>\n",
       "    <tr>\n",
       "      <th>5</th>\n",
       "      <td>5250</td>\n",
       "      <td>Deathmatch Classic</td>\n",
       "      <td>0.0</td>\n",
       "      <td>1</td>\n",
       "      <td>0</td>\n",
       "      <td>1</td>\n",
       "      <td>0.0</td>\n",
       "      <td>5.0</td>\n",
       "    </tr>\n",
       "    <tr>\n",
       "      <th>6</th>\n",
       "      <td>5250</td>\n",
       "      <td>Deus Ex Human Revolution</td>\n",
       "      <td>3720.0</td>\n",
       "      <td>1</td>\n",
       "      <td>1</td>\n",
       "      <td>5</td>\n",
       "      <td>0.0</td>\n",
       "      <td>6.0</td>\n",
       "    </tr>\n",
       "    <tr>\n",
       "      <th>7</th>\n",
       "      <td>5250</td>\n",
       "      <td>Dota 2</td>\n",
       "      <td>12.0</td>\n",
       "      <td>1</td>\n",
       "      <td>1</td>\n",
       "      <td>2</td>\n",
       "      <td>0.0</td>\n",
       "      <td>7.0</td>\n",
       "    </tr>\n",
       "    <tr>\n",
       "      <th>8</th>\n",
       "      <td>5250</td>\n",
       "      <td>Half-Life</td>\n",
       "      <td>0.0</td>\n",
       "      <td>1</td>\n",
       "      <td>0</td>\n",
       "      <td>1</td>\n",
       "      <td>0.0</td>\n",
       "      <td>8.0</td>\n",
       "    </tr>\n",
       "    <tr>\n",
       "      <th>9</th>\n",
       "      <td>5250</td>\n",
       "      <td>Half-Life 2</td>\n",
       "      <td>0.0</td>\n",
       "      <td>1</td>\n",
       "      <td>0</td>\n",
       "      <td>1</td>\n",
       "      <td>0.0</td>\n",
       "      <td>9.0</td>\n",
       "    </tr>\n",
       "    <tr>\n",
       "      <th>10</th>\n",
       "      <td>5250</td>\n",
       "      <td>Half-Life 2 Deathmatch</td>\n",
       "      <td>0.0</td>\n",
       "      <td>1</td>\n",
       "      <td>0</td>\n",
       "      <td>1</td>\n",
       "      <td>0.0</td>\n",
       "      <td>10.0</td>\n",
       "    </tr>\n",
       "    <tr>\n",
       "      <th>11</th>\n",
       "      <td>5250</td>\n",
       "      <td>Half-Life 2 Episode One</td>\n",
       "      <td>0.0</td>\n",
       "      <td>1</td>\n",
       "      <td>0</td>\n",
       "      <td>1</td>\n",
       "      <td>0.0</td>\n",
       "      <td>11.0</td>\n",
       "    </tr>\n",
       "    <tr>\n",
       "      <th>12</th>\n",
       "      <td>5250</td>\n",
       "      <td>Half-Life 2 Episode Two</td>\n",
       "      <td>0.0</td>\n",
       "      <td>1</td>\n",
       "      <td>0</td>\n",
       "      <td>1</td>\n",
       "      <td>0.0</td>\n",
       "      <td>12.0</td>\n",
       "    </tr>\n",
       "    <tr>\n",
       "      <th>13</th>\n",
       "      <td>5250</td>\n",
       "      <td>Half-Life 2 Lost Coast</td>\n",
       "      <td>0.0</td>\n",
       "      <td>1</td>\n",
       "      <td>0</td>\n",
       "      <td>1</td>\n",
       "      <td>0.0</td>\n",
       "      <td>13.0</td>\n",
       "    </tr>\n",
       "    <tr>\n",
       "      <th>14</th>\n",
       "      <td>5250</td>\n",
       "      <td>Half-Life Blue Shift</td>\n",
       "      <td>0.0</td>\n",
       "      <td>1</td>\n",
       "      <td>0</td>\n",
       "      <td>1</td>\n",
       "      <td>0.0</td>\n",
       "      <td>14.0</td>\n",
       "    </tr>\n",
       "    <tr>\n",
       "      <th>15</th>\n",
       "      <td>5250</td>\n",
       "      <td>Half-Life Opposing Force</td>\n",
       "      <td>0.0</td>\n",
       "      <td>1</td>\n",
       "      <td>0</td>\n",
       "      <td>1</td>\n",
       "      <td>0.0</td>\n",
       "      <td>15.0</td>\n",
       "    </tr>\n",
       "    <tr>\n",
       "      <th>16</th>\n",
       "      <td>5250</td>\n",
       "      <td>Portal</td>\n",
       "      <td>0.0</td>\n",
       "      <td>1</td>\n",
       "      <td>0</td>\n",
       "      <td>1</td>\n",
       "      <td>0.0</td>\n",
       "      <td>16.0</td>\n",
       "    </tr>\n",
       "    <tr>\n",
       "      <th>17</th>\n",
       "      <td>5250</td>\n",
       "      <td>Portal 2</td>\n",
       "      <td>816.0</td>\n",
       "      <td>1</td>\n",
       "      <td>1</td>\n",
       "      <td>4</td>\n",
       "      <td>0.0</td>\n",
       "      <td>17.0</td>\n",
       "    </tr>\n",
       "    <tr>\n",
       "      <th>18</th>\n",
       "      <td>5250</td>\n",
       "      <td>Ricochet</td>\n",
       "      <td>0.0</td>\n",
       "      <td>1</td>\n",
       "      <td>0</td>\n",
       "      <td>1</td>\n",
       "      <td>0.0</td>\n",
       "      <td>18.0</td>\n",
       "    </tr>\n",
       "    <tr>\n",
       "      <th>19</th>\n",
       "      <td>5250</td>\n",
       "      <td>Team Fortress 2</td>\n",
       "      <td>48.0</td>\n",
       "      <td>1</td>\n",
       "      <td>1</td>\n",
       "      <td>2</td>\n",
       "      <td>0.0</td>\n",
       "      <td>19.0</td>\n",
       "    </tr>\n",
       "    <tr>\n",
       "      <th>20</th>\n",
       "      <td>5250</td>\n",
       "      <td>Team Fortress Classic</td>\n",
       "      <td>0.0</td>\n",
       "      <td>1</td>\n",
       "      <td>0</td>\n",
       "      <td>1</td>\n",
       "      <td>0.0</td>\n",
       "      <td>20.0</td>\n",
       "    </tr>\n",
       "  </tbody>\n",
       "</table>\n",
       "</div>"
      ],
      "text/plain": [
       "    user                      game     hrs  ...  rating  userID  itemID\n",
       "0   5250               Alien Swarm   294.0  ...       4     0.0     0.0\n",
       "1   5250           Cities Skylines  8640.0  ...       5     0.0     1.0\n",
       "2   5250            Counter-Strike     0.0  ...       1     0.0     2.0\n",
       "3   5250     Counter-Strike Source     0.0  ...       1     0.0     3.0\n",
       "4   5250             Day of Defeat     0.0  ...       1     0.0     4.0\n",
       "5   5250        Deathmatch Classic     0.0  ...       1     0.0     5.0\n",
       "6   5250  Deus Ex Human Revolution  3720.0  ...       5     0.0     6.0\n",
       "7   5250                    Dota 2    12.0  ...       2     0.0     7.0\n",
       "8   5250                 Half-Life     0.0  ...       1     0.0     8.0\n",
       "9   5250               Half-Life 2     0.0  ...       1     0.0     9.0\n",
       "10  5250    Half-Life 2 Deathmatch     0.0  ...       1     0.0    10.0\n",
       "11  5250   Half-Life 2 Episode One     0.0  ...       1     0.0    11.0\n",
       "12  5250   Half-Life 2 Episode Two     0.0  ...       1     0.0    12.0\n",
       "13  5250    Half-Life 2 Lost Coast     0.0  ...       1     0.0    13.0\n",
       "14  5250      Half-Life Blue Shift     0.0  ...       1     0.0    14.0\n",
       "15  5250  Half-Life Opposing Force     0.0  ...       1     0.0    15.0\n",
       "16  5250                    Portal     0.0  ...       1     0.0    16.0\n",
       "17  5250                  Portal 2   816.0  ...       4     0.0    17.0\n",
       "18  5250                  Ricochet     0.0  ...       1     0.0    18.0\n",
       "19  5250           Team Fortress 2    48.0  ...       2     0.0    19.0\n",
       "20  5250     Team Fortress Classic     0.0  ...       1     0.0    20.0\n",
       "\n",
       "[21 rows x 8 columns]"
      ]
     },
     "execution_count": 84,
     "metadata": {
      "tags": []
     },
     "output_type": "execute_result"
    }
   ],
   "source": [
    "data[data['user']==5250]"
   ]
  },
  {
   "cell_type": "code",
   "execution_count": null,
   "metadata": {
    "colab": {
     "base_uri": "https://localhost:8080/",
     "height": 355
    },
    "id": "023vm5Y9w0gC",
    "outputId": "0605c0ee-6f53-41f6-bdb1-7c6c0f94014e"
   },
   "outputs": [
    {
     "data": {
      "text/html": [
       "<div>\n",
       "<style scoped>\n",
       "    .dataframe tbody tr th:only-of-type {\n",
       "        vertical-align: middle;\n",
       "    }\n",
       "\n",
       "    .dataframe tbody tr th {\n",
       "        vertical-align: top;\n",
       "    }\n",
       "\n",
       "    .dataframe thead th {\n",
       "        text-align: right;\n",
       "    }\n",
       "</style>\n",
       "<table border=\"1\" class=\"dataframe\">\n",
       "  <thead>\n",
       "    <tr style=\"text-align: right;\">\n",
       "      <th></th>\n",
       "      <th>game</th>\n",
       "      <th>rating</th>\n",
       "    </tr>\n",
       "  </thead>\n",
       "  <tbody>\n",
       "    <tr>\n",
       "      <th>1</th>\n",
       "      <td>Cities Skylines</td>\n",
       "      <td>4.72626</td>\n",
       "    </tr>\n",
       "    <tr>\n",
       "      <th>44</th>\n",
       "      <td>Total War ATTILA</td>\n",
       "      <td>4.38804</td>\n",
       "    </tr>\n",
       "    <tr>\n",
       "      <th>740</th>\n",
       "      <td>Rocksmith 2014</td>\n",
       "      <td>4.36106</td>\n",
       "    </tr>\n",
       "    <tr>\n",
       "      <th>1443</th>\n",
       "      <td>Football Manager 2015</td>\n",
       "      <td>4.32717</td>\n",
       "    </tr>\n",
       "    <tr>\n",
       "      <th>4851</th>\n",
       "      <td>Pro Evolution Soccer 2016</td>\n",
       "      <td>4.2276</td>\n",
       "    </tr>\n",
       "    <tr>\n",
       "      <th>2033</th>\n",
       "      <td>The Sims(TM) 3</td>\n",
       "      <td>4.17899</td>\n",
       "    </tr>\n",
       "    <tr>\n",
       "      <th>104</th>\n",
       "      <td>Tropico 4</td>\n",
       "      <td>4.14317</td>\n",
       "    </tr>\n",
       "    <tr>\n",
       "      <th>1509</th>\n",
       "      <td>Pro Evolution Soccer 2015</td>\n",
       "      <td>4.13987</td>\n",
       "    </tr>\n",
       "    <tr>\n",
       "      <th>277</th>\n",
       "      <td>South Park The Stick of Truth</td>\n",
       "      <td>4.13192</td>\n",
       "    </tr>\n",
       "    <tr>\n",
       "      <th>1058</th>\n",
       "      <td>Farming Simulator 2013</td>\n",
       "      <td>4.12101</td>\n",
       "    </tr>\n",
       "  </tbody>\n",
       "</table>\n",
       "</div>"
      ],
      "text/plain": [
       "                               game   rating\n",
       "1                   Cities Skylines  4.72626\n",
       "44                 Total War ATTILA  4.38804\n",
       "740                  Rocksmith 2014  4.36106\n",
       "1443          Football Manager 2015  4.32717\n",
       "4851      Pro Evolution Soccer 2016   4.2276\n",
       "2033                 The Sims(TM) 3  4.17899\n",
       "104                       Tropico 4  4.14317\n",
       "1509      Pro Evolution Soccer 2015  4.13987\n",
       "277   South Park The Stick of Truth  4.13192\n",
       "1058         Farming Simulator 2013  4.12101"
      ]
     },
     "execution_count": 85,
     "metadata": {
      "tags": []
     },
     "output_type": "execute_result"
    }
   ],
   "source": [
    "getGameRecommendation(5250, 10)"
   ]
  },
  {
   "cell_type": "code",
   "execution_count": null,
   "metadata": {
    "id": "0DKE-LgSw9Bs"
   },
   "outputs": [],
   "source": []
  }
 ],
 "metadata": {
  "accelerator": "GPU",
  "colab": {
   "collapsed_sections": [],
   "name": "Game AutoEncoder.ipynb",
   "provenance": []
  },
  "kernelspec": {
   "display_name": "Python 3",
   "language": "python",
   "name": "python3"
  },
  "language_info": {
   "codemirror_mode": {
    "name": "ipython",
    "version": 3
   },
   "file_extension": ".py",
   "mimetype": "text/x-python",
   "name": "python",
   "nbconvert_exporter": "python",
   "pygments_lexer": "ipython3",
   "version": "3.7.4"
  }
 },
 "nbformat": 4,
 "nbformat_minor": 1
}
